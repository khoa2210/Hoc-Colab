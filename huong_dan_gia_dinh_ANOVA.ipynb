{
  "nbformat": 4,
  "nbformat_minor": 0,
  "metadata": {
    "kernelspec": {
      "display_name": "Python 3",
      "language": "python",
      "name": "python3"
    },
    "language_info": {
      "codemirror_mode": {
        "name": "ipython",
        "version": 3
      },
      "file_extension": ".py",
      "mimetype": "text/x-python",
      "name": "python",
      "nbconvert_exporter": "python",
      "pygments_lexer": "ipython3",
      "version": "3.7.3"
    },
    "colab": {
      "name": "huong-dan-gia-dinh-ANOVA.ipynb",
      "provenance": [],
      "include_colab_link": true
    }
  },
  "cells": [
    {
      "cell_type": "markdown",
      "metadata": {
        "id": "view-in-github",
        "colab_type": "text"
      },
      "source": [
        "<a href=\"https://colab.research.google.com/github/khoa2210/Hoc-Colab/blob/main/huong_dan_gia_dinh_ANOVA.ipynb\" target=\"_parent\"><img src=\"https://colab.research.google.com/assets/colab-badge.svg\" alt=\"Open In Colab\"/></a>"
      ]
    },
    {
      "cell_type": "markdown",
      "metadata": {
        "id": "TF32PX_aPPcG"
      },
      "source": [
        "PHÂN TÍCH ANOVA MỘT CHIỀU\n",
        "\n",
        "Phân tích ANOVA chấp nhận các giả định sau:\n",
        "\n",
        "(1) Tất cả các nhóm đều độc lập với nhau\n",
        "\n",
        "(2) Dữ liệu của mỗi nhóm đều tuân theo phân phối chuẩn. Tính chất này có thể được kiểm định bằng phương pháp Shapiro-Wilks.\n",
        "\n",
        "(3) Phương sai (variance) của các nhóm bằng nhau. Tính chất này có thể được kiểm định bằng phương pháp kiểm định Bartlett hay Levene.\n",
        "\n",
        "Nếu dữ liệu hiện có thỏa mãn các tính chất trên thì chúng ta mới tiến hành kiểm định ANOVA. Do vậy trước khi tiến hành kiểm định ANOVA, chúng ta cần thực hiện kiểm tra tập dữ liệu cần thỏa mãn 3 tính chất trên.\n",
        "    "
      ]
    },
    {
      "cell_type": "code",
      "metadata": {
        "id": "l5vzHLpRk0Ng"
      },
      "source": [
        "import numpy as np\n",
        "from scipy import stats\n",
        "import pandas as pd\n",
        "from scipy.stats import bartlett\n",
        "import random"
      ],
      "execution_count": null,
      "outputs": []
    },
    {
      "cell_type": "code",
      "metadata": {
        "id": "CBqbYDVmPPcL",
        "colab": {
          "base_uri": "https://localhost:8080/"
        },
        "outputId": "6d1339ab-9c6b-4f57-faed-702109569db7"
      },
      "source": [
        "#Bước 1: Hãy tạo một tập dữ liệu mẫu sample_1 với kích thước 100 tuân theo phân phối chuẩn\n",
        "sample_1 = stats.norm.rvs(loc=20, scale=0.2, size=100)\n",
        "print(sample_1[:10])"
      ],
      "execution_count": null,
      "outputs": [
        {
          "output_type": "stream",
          "text": [
            "[20.16601191 19.5180118  19.78025441 20.18133667 20.21479013 20.1007889\n",
            " 20.01343985 19.77648559 19.9634882  20.04924029]\n"
          ],
          "name": "stdout"
        }
      ]
    },
    {
      "cell_type": "code",
      "metadata": {
        "id": "jkRkup-iPPcM",
        "colab": {
          "base_uri": "https://localhost:8080/"
        },
        "outputId": "c17d175a-9e2f-4f46-ea4a-25eb98a2a976"
      },
      "source": [
        "#Bước 2: hãy tạo tập dữ liệu mẫu sample_2 với kích thước 100 tuân theo phân phối Poisson\n",
        "sample_2 = stats.poisson.rvs(loc=20, mu = 1, size = 100)\n",
        "print(sample_2[:10])"
      ],
      "execution_count": null,
      "outputs": [
        {
          "output_type": "stream",
          "text": [
            "[21 21 21 21 20 20 21 22 20 23]\n"
          ],
          "name": "stdout"
        }
      ]
    },
    {
      "cell_type": "code",
      "metadata": {
        "id": "iL1E77e2beDc",
        "colab": {
          "base_uri": "https://localhost:8080/"
        },
        "outputId": "58abc3d3-a274-4d0c-f545-be49ed79c945"
      },
      "source": [
        "from numpy.random import seed\n",
        "from numpy.random import poisson\n",
        "seed(0)\n",
        "sample_2 = poisson(5, 100)\n",
        "print(sample_2)"
      ],
      "execution_count": null,
      "outputs": [
        {
          "output_type": "stream",
          "text": [
            "[ 9  5  6  5  5  8  4  5  4  3  3  7  3  3  4  5  2  1  7  7 10  5  8  8\n",
            "  6  4  4  3  1  5  6  5  5  4  1  7  2  7  6  2  6  5  7  5  4  5 10  6\n",
            "  4  7  3  2  2  6  2  5  3  6  2  4  4  4  8  7 11  3  4  1  4  5  1  2\n",
            "  2  5  5  5  7  8  4  6  4 10  3  8  5  7  3  8  2  1  4  4  4  4  6  4\n",
            " 12  1  6  3]\n"
          ],
          "name": "stdout"
        }
      ]
    },
    {
      "cell_type": "markdown",
      "metadata": {
        "id": "js-JlrOqPPcM"
      },
      "source": [
        "Hãy tham khảo các hướng dẫn sau để kiểm định tính chất thứ 2 bằng phương pháp Shapiro-Wilks đối với sample_1 và sample_2\n",
        "\n",
        "(1) [Tài liệu tham khảo scipy](https://docs.scipy.org/doc/scipy/reference/generated/scipy.stats.shapiro.html)\n",
        "\n",
        "(2) [Hướng dẫn cụ thể của statology](https://www.statology.org/shapiro-wilk-test-python/)"
      ]
    },
    {
      "cell_type": "code",
      "metadata": {
        "id": "svCOMlaZPPcM",
        "colab": {
          "base_uri": "https://localhost:8080/"
        },
        "outputId": "613b43cd-2f0c-4c0b-af9c-e26c3bc3ef63"
      },
      "source": [
        "#Code kiểm định tính chất thứ 2 của sample_1 và sample_2\n",
        "# Kiểm định Shapiro-Wilk để xác định xem một mẫu có đến từ phân phối chuẩn hay không.\n",
        "from scipy.stats import shapiro\n",
        "print(\"Kiểm định Shapiro-Wilk để xem mẫu có tuân theo phân phối chuẩn\")\n",
        "shapiro_test1 = stats.shapiro(sample_1) \n",
        "print(\"Statistic =\", shapiro_test1[0], \"\\n\",\n",
        "      \"p value =\", shapiro_test1[1])\n",
        "t1, p1 = shapiro(sample_1)\n",
        "if p1 > 0.05:\n",
        "  print(\"Chưa đủ bằng chứng thống kê để bác bỏ H0, Điều này ngụ ý Mẫu tuân theo phân phối chuẩn\")\n",
        "else:\n",
        "  print(\"Có bằng chứng thống kê để bác bỏ H0, Điều này ngụ ý Mẫu tuân không tuân theo phân phối chuẩn\")\n",
        "print(\"-----------------------------------------\")\n",
        "\n",
        "print(\"Kiểm định Shapiro-Wilk để xem mẫu có tuân theo phân phối Poisson\")\n",
        "shapiro_test2 = stats.shapiro(sample_2)\n",
        "print(\"Statistic =\", shapiro_test2[0], \"\\n\",\n",
        "      \"p value =\", shapiro_test2[1])\n",
        "t2, p2 = shapiro(sample_2)\n",
        "if p2 > 0.05:\n",
        "  print(\"Chưa đủ bằng chứng thống kê để bác bỏ H0, Điều này ngụ ý Mẫu tuân theo phân phối chuẩn\")\n",
        "else:\n",
        "  print(\"Có bằng chứng thống kê để bác bỏ H0, Điều này ngụ ý Mẫu tuân không tuân theo phân phối chuẩn\")"
      ],
      "execution_count": null,
      "outputs": [
        {
          "output_type": "stream",
          "text": [
            "Kiểm định Shapiro-Wilk để xem mẫu có tuân theo phân phối chuẩn\n",
            "Statistic = 0.9937525391578674 \n",
            " p value = 0.929026186466217\n",
            "Chưa đủ bằng chứng thống kê để bác bỏ H0, Điều này ngụ ý Mẫu tuân theo phân phối chuẩn\n",
            "-----------------------------------------\n",
            "Kiểm định Shapiro-Wilk để xem mẫu có tuân theo phân phối Poisson\n",
            "Statistic = 0.836934506893158 \n",
            " p value = 4.0179504168236235e-09\n",
            "Có bằng chứng thống kê để bác bỏ H0, Điều này ngụ ý Mẫu tuân không tuân theo phân phối chuẩn\n"
          ],
          "name": "stdout"
        }
      ]
    },
    {
      "cell_type": "markdown",
      "metadata": {
        "id": "QQXD7s0ZPPcN"
      },
      "source": [
        "Hãy tham khảo các hướng dẫn sau để kiểm định tính chất thứ 3 bằng kiểm định Bartlett hoặc kiểm định Levene\n",
        "\n",
        "(1) [Hướng dẫn tổng quát](https://www.marsja.se/levenes-bartletts-test-of-equality-homogeneity-of-variance-in-python/)\n",
        "\n",
        "(2) [Hướng dẫn ở stackoverflow](https://stackoverflow.com/questions/36141254/how-to-test-for-homoscedasticity-having-the-same-population-variance-in-python)\n",
        "\n",
        "(3) Sử dụng bài giảng về kiểm định Bartlett và Levene ở buổi trước"
      ]
    },
    {
      "cell_type": "code",
      "metadata": {
        "id": "8eujbEdXPPcN"
      },
      "source": [
        "#Code kiểm định tính đồng nhất về phương sai của các nhóm"
      ],
      "execution_count": null,
      "outputs": []
    },
    {
      "cell_type": "code",
      "metadata": {
        "id": "An6SKTYQp5Oo"
      },
      "source": [
        "f = {'Business Majors': np.random.normal(random.uniform(2, 5), 0.1, 35),\n",
        "     'English Majors': np.random.normal(random.uniform(2, 5), 0.2, 35),\n",
        "     'Math Majors': np.random.normal(random.uniform(2, 5), 0.15, 35),\n",
        "     'Psych Majors': np.random.normal(random.uniform(2, 5), 0.1, 35)}\n",
        "\n",
        "df = pd.DataFrame(f)"
      ],
      "execution_count": null,
      "outputs": []
    },
    {
      "cell_type": "code",
      "metadata": {
        "colab": {
          "base_uri": "https://localhost:8080/",
          "height": 195
        },
        "id": "33by_r6dqILm",
        "outputId": "f38c461a-0b8c-4a2a-e9e4-754f01aaa9ba"
      },
      "source": [
        "df.head()"
      ],
      "execution_count": null,
      "outputs": [
        {
          "output_type": "execute_result",
          "data": {
            "text/html": [
              "<div>\n",
              "<style scoped>\n",
              "    .dataframe tbody tr th:only-of-type {\n",
              "        vertical-align: middle;\n",
              "    }\n",
              "\n",
              "    .dataframe tbody tr th {\n",
              "        vertical-align: top;\n",
              "    }\n",
              "\n",
              "    .dataframe thead th {\n",
              "        text-align: right;\n",
              "    }\n",
              "</style>\n",
              "<table border=\"1\" class=\"dataframe\">\n",
              "  <thead>\n",
              "    <tr style=\"text-align: right;\">\n",
              "      <th></th>\n",
              "      <th>Business Majors</th>\n",
              "      <th>English Majors</th>\n",
              "      <th>Math Majors</th>\n",
              "      <th>Psych Majors</th>\n",
              "    </tr>\n",
              "  </thead>\n",
              "  <tbody>\n",
              "    <tr>\n",
              "      <th>0</th>\n",
              "      <td>3.776453</td>\n",
              "      <td>4.591470</td>\n",
              "      <td>3.242969</td>\n",
              "      <td>4.826897</td>\n",
              "    </tr>\n",
              "    <tr>\n",
              "      <th>1</th>\n",
              "      <td>3.736356</td>\n",
              "      <td>4.376260</td>\n",
              "      <td>3.134316</td>\n",
              "      <td>4.845015</td>\n",
              "    </tr>\n",
              "    <tr>\n",
              "      <th>2</th>\n",
              "      <td>3.801095</td>\n",
              "      <td>4.292427</td>\n",
              "      <td>2.978053</td>\n",
              "      <td>4.915098</td>\n",
              "    </tr>\n",
              "    <tr>\n",
              "      <th>3</th>\n",
              "      <td>3.571618</td>\n",
              "      <td>4.663596</td>\n",
              "      <td>2.808978</td>\n",
              "      <td>4.915112</td>\n",
              "    </tr>\n",
              "    <tr>\n",
              "      <th>4</th>\n",
              "      <td>3.636418</td>\n",
              "      <td>4.954425</td>\n",
              "      <td>2.956341</td>\n",
              "      <td>4.799797</td>\n",
              "    </tr>\n",
              "  </tbody>\n",
              "</table>\n",
              "</div>"
            ],
            "text/plain": [
              "   Business Majors  English Majors  Math Majors  Psych Majors\n",
              "0         3.776453        4.591470     3.242969      4.826897\n",
              "1         3.736356        4.376260     3.134316      4.845015\n",
              "2         3.801095        4.292427     2.978053      4.915098\n",
              "3         3.571618        4.663596     2.808978      4.915112\n",
              "4         3.636418        4.954425     2.956341      4.799797"
            ]
          },
          "metadata": {
            "tags": []
          },
          "execution_count": 17
        }
      ]
    },
    {
      "cell_type": "code",
      "metadata": {
        "id": "vdBxkPSaqjxe"
      },
      "source": [
        "Bus = df['Business Majors']\n",
        "Eng = df['English Majors']\n",
        "Math = df['Math Majors']\n",
        "Psy = df['Psych Majors']\n",
        "alpha = 0.05"
      ],
      "execution_count": null,
      "outputs": []
    },
    {
      "cell_type": "code",
      "metadata": {
        "colab": {
          "base_uri": "https://localhost:8080/"
        },
        "id": "RlD2i3ntqw6-",
        "outputId": "75008e6e-2976-4ab6-c548-54b9a34700a9"
      },
      "source": [
        "#Kiểm định bằng bartlett\n",
        "stat, pvalue = stats.bartlett(Bus, Eng, Math, Psy)\n",
        "print(\"Statistic =\", stat, \"\\n\",\n",
        "      \"p value =\", pvalue)\n",
        "if pvalue > alpha:\n",
        "  print(\"Chưa có bằng chứng thống kê để bác bỏ H0, Điều này ngụ ý rằng phương sai các mẫu bằng nhau\")\n",
        "else:\n",
        "  print(\"Có bằng chứng thống kê để bác bỏ H0, Điều này ngụ ý rằng Tồn tại ít nhất một cặp mẫu có phương sai khác nhau\")\n",
        "  #Xem phương sai của từng biến\n",
        "  b, e, m, p = [np.var(x, ddof=1) for x in [Bus, Eng, Math, Psy]]\n",
        "  print(\"Phương Sai của Bus =\", b, \"\\n\",\n",
        "      \"Phương Sai của Eng =\", e, \"\\n\",\n",
        "      \"Phương Sai của Math =\", m, \"\\n\",\n",
        "      \"Phương Sai của Psy =\", p, \"\\n\",)"
      ],
      "execution_count": null,
      "outputs": [
        {
          "output_type": "stream",
          "text": [
            "Statistic = 54.550549076148066 \n",
            " p value = 8.562321507319656e-12\n",
            "Có bằng chứng thống kê để bác bỏ H0, Điều này ngụ ý rằng Tồn tại ít nhất một cặp mẫu có phương sai khác nhau\n",
            "Phương Sai của Bus = 0.008056440248520777 \n",
            " Phương Sai của Eng = 0.06931919525239623 \n",
            " Phương Sai của Math = 0.019342220310734383 \n",
            " Phương Sai của Psy = 0.008853287626957689 \n",
            "\n"
          ],
          "name": "stdout"
        }
      ]
    },
    {
      "cell_type": "code",
      "metadata": {
        "id": "sEK99Ef9yV98",
        "colab": {
          "base_uri": "https://localhost:8080/"
        },
        "outputId": "a6d5e8cc-6eb9-44ff-9150-93ef0393be4a"
      },
      "source": [
        "#Kiểm định bằng Levene\n",
        "stat1, pvalue = stats.levene(Bus, Eng, Math, Psy)\n",
        "print(\"Statistic =\", stat1, \"\\n\",\n",
        "      \"p value =\", pvalue1)\n",
        "if pvalue > alpha:\n",
        "  print(\"Chưa có bằng chứng thống kê để bác bỏ H0, Điều này ngụ ý rằng phương sai các mẫu bằng nhau\")\n",
        "else:\n",
        "  print(\"Có bằng chứng thống kê để bác bỏ H0, Điều này ngụ ý rằng Tồn tại ít nhất một cặp mẫu có phương sai khác nhau\")\n",
        "  #Xem phương sai của từng biến\n",
        "  b, e, m, p = [np.var(x, ddof=1) for x in [Bus, Eng, Math, Psy]]\n",
        "  print(\"Phương Sai của Bus =\", b, \"\\n\",\n",
        "      \"Phương Sai của Eng =\", e, \"\\n\",\n",
        "      \"Phương Sai của Math =\", m, \"\\n\",\n",
        "      \"Phương Sai của Psy =\", p, \"\\n\",)\n",
        "     "
      ],
      "execution_count": null,
      "outputs": [
        {
          "output_type": "stream",
          "text": [
            "Statistic = 11.951701689664675 \n",
            " p value = 5.393497898754758e-07\n",
            "Có bằng chứng thống kê để bác bỏ H0, Điều này ngụ ý rằng Tồn tại ít nhất một cặp mẫu có phương sai khác nhau\n",
            "Phương Sai của Bus = 0.008056440248520777 \n",
            " Phương Sai của Eng = 0.06931919525239623 \n",
            " Phương Sai của Math = 0.019342220310734383 \n",
            " Phương Sai của Psy = 0.008853287626957689 \n",
            "\n"
          ],
          "name": "stdout"
        }
      ]
    }
  ]
}