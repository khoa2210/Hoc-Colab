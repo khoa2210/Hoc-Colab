{
  "nbformat": 4,
  "nbformat_minor": 0,
  "metadata": {
    "kernelspec": {
      "display_name": "Python 3",
      "language": "python",
      "name": "python3"
    },
    "language_info": {
      "codemirror_mode": {
        "name": "ipython",
        "version": 3
      },
      "file_extension": ".py",
      "mimetype": "text/x-python",
      "name": "python",
      "nbconvert_exporter": "python",
      "pygments_lexer": "ipython3",
      "version": "3.7.3"
    },
    "colab": {
      "name": " huong-dan-gia-dinh-ANOVA.ipynb",
      "provenance": [],
      "include_colab_link": true
    }
  },
  "cells": [
    {
      "cell_type": "markdown",
      "metadata": {
        "id": "view-in-github",
        "colab_type": "text"
      },
      "source": [
        "<a href=\"https://colab.research.google.com/github/khoa2210/Hoc-Colab/blob/main/huong_dan_gia_dinh_ANOVA.ipynb\" target=\"_parent\"><img src=\"https://colab.research.google.com/assets/colab-badge.svg\" alt=\"Open In Colab\"/></a>"
      ]
    },
    {
      "cell_type": "markdown",
      "metadata": {
        "id": "TF32PX_aPPcG"
      },
      "source": [
        "PHÂN TÍCH ANOVA MỘT CHIỀU\n",
        "\n",
        "Phân tích ANOVA chấp nhận các giả định sau:\n",
        "\n",
        "(1) Tất cả các nhóm đều độc lập với nhau\n",
        "\n",
        "(2) Dữ liệu của mỗi nhóm đều tuân theo phân phối chuẩn. Tính chất này có thể được kiểm định bằng phương pháp Shapiro-Wilks.\n",
        "\n",
        "(3) Phương sai (variance) của các nhóm bằng nhau. Tính chất này có thể được kiểm định bằng phương pháp kiểm định Bartlett hay Levene.\n",
        "\n",
        "Nếu dữ liệu hiện có thỏa mãn các tính chất trên thì chúng ta mới tiến hành kiểm định ANOVA. Do vậy trước khi tiến hành kiểm định ANOVA, chúng ta cần thực hiện kiểm tra tập dữ liệu cần thỏa mãn 3 tính chất trên.\n",
        "    "
      ]
    },
    {
      "cell_type": "code",
      "metadata": {
        "id": "CBqbYDVmPPcL"
      },
      "source": [
        "#Bước 1: Hãy tạo một tập dữ liệu mẫu sample_1 với kích thước 100 tuân theo phân phối chuẩn"
      ],
      "execution_count": 1,
      "outputs": []
    },
    {
      "cell_type": "code",
      "metadata": {
        "id": "4y8YZziKbenA",
        "colab": {
          "base_uri": "https://localhost:8080/"
        },
        "outputId": "53d36a87-e7a5-460e-c77e-534c675bd93e"
      },
      "source": [
        "from numpy.random import seed\n",
        "from numpy.random import randn\n",
        "seed(0)\n",
        "sample_1 = randn(100)\n",
        "print(sample_1)\n",
        "\n"
      ],
      "execution_count": 7,
      "outputs": [
        {
          "output_type": "stream",
          "text": [
            "[ 1.76405235  0.40015721  0.97873798  2.2408932   1.86755799 -0.97727788\n",
            "  0.95008842 -0.15135721 -0.10321885  0.4105985   0.14404357  1.45427351\n",
            "  0.76103773  0.12167502  0.44386323  0.33367433  1.49407907 -0.20515826\n",
            "  0.3130677  -0.85409574 -2.55298982  0.6536186   0.8644362  -0.74216502\n",
            "  2.26975462 -1.45436567  0.04575852 -0.18718385  1.53277921  1.46935877\n",
            "  0.15494743  0.37816252 -0.88778575 -1.98079647 -0.34791215  0.15634897\n",
            "  1.23029068  1.20237985 -0.38732682 -0.30230275 -1.04855297 -1.42001794\n",
            " -1.70627019  1.9507754  -0.50965218 -0.4380743  -1.25279536  0.77749036\n",
            " -1.61389785 -0.21274028 -0.89546656  0.3869025  -0.51080514 -1.18063218\n",
            " -0.02818223  0.42833187  0.06651722  0.3024719  -0.63432209 -0.36274117\n",
            " -0.67246045 -0.35955316 -0.81314628 -1.7262826   0.17742614 -0.40178094\n",
            " -1.63019835  0.46278226 -0.90729836  0.0519454   0.72909056  0.12898291\n",
            "  1.13940068 -1.23482582  0.40234164 -0.68481009 -0.87079715 -0.57884966\n",
            " -0.31155253  0.05616534 -1.16514984  0.90082649  0.46566244 -1.53624369\n",
            "  1.48825219  1.89588918  1.17877957 -0.17992484 -1.07075262  1.05445173\n",
            " -0.40317695  1.22244507  0.20827498  0.97663904  0.3563664   0.70657317\n",
            "  0.01050002  1.78587049  0.12691209  0.40198936]\n"
          ],
          "name": "stdout"
        }
      ]
    },
    {
      "cell_type": "code",
      "metadata": {
        "id": "jkRkup-iPPcM"
      },
      "source": [
        "#Bước 2: hãy tạo tập dữ liệu mẫu sample_2 với kích thước 100 tuân theo phân phối Poisson"
      ],
      "execution_count": null,
      "outputs": []
    },
    {
      "cell_type": "code",
      "metadata": {
        "id": "iL1E77e2beDc",
        "colab": {
          "base_uri": "https://localhost:8080/"
        },
        "outputId": "6f0516c8-a383-4fa1-be0a-d753536fd77a"
      },
      "source": [
        "from numpy.random import seed\n",
        "from numpy.random import poisson\n",
        "seed(0)\n",
        "sample_2 = poisson(5, 100)\n",
        "print(sample_2)"
      ],
      "execution_count": 9,
      "outputs": [
        {
          "output_type": "stream",
          "text": [
            "[ 9  5  6  5  5  8  4  5  4  3  3  7  3  3  4  5  2  1  7  7 10  5  8  8\n",
            "  6  4  4  3  1  5  6  5  5  4  1  7  2  7  6  2  6  5  7  5  4  5 10  6\n",
            "  4  7  3  2  2  6  2  5  3  6  2  4  4  4  8  7 11  3  4  1  4  5  1  2\n",
            "  2  5  5  5  7  8  4  6  4 10  3  8  5  7  3  8  2  1  4  4  4  4  6  4\n",
            " 12  1  6  3]\n"
          ],
          "name": "stdout"
        }
      ]
    },
    {
      "cell_type": "markdown",
      "metadata": {
        "id": "js-JlrOqPPcM"
      },
      "source": [
        "Hãy tham khảo các hướng dẫn sau để kiểm định tính chất thứ 2 bằng phương pháp Shapiro-Wilks đối với sample_1 và sample_2\n",
        "\n",
        "(1) [Tài liệu tham khảo scipy](https://docs.scipy.org/doc/scipy/reference/generated/scipy.stats.shapiro.html)\n",
        "\n",
        "(2) [Hướng dẫn cụ thể của statology](https://www.statology.org/shapiro-wilk-test-python/)"
      ]
    },
    {
      "cell_type": "code",
      "metadata": {
        "id": "svCOMlaZPPcM",
        "colab": {
          "base_uri": "https://localhost:8080/"
        },
        "outputId": "ac5c4143-2c7b-4518-e34a-b07040d5594d"
      },
      "source": [
        "import numpy as np\n",
        "from scipy import stats\n",
        "\n",
        "p_1 = stats.shapiro(sample_1)[1]\n",
        "p_2 = stats.shapiro(sample_2)[1]\n",
        "if p_1 > 0.05:\n",
        "    print(f'mẫu 1 tuân theo phân phối chuẩn')\n",
        "else:\n",
        "    print(f'mẫu 1 không tuân theo phân phối chuẩn')\n",
        "if p_2 > 0.05:\n",
        "    print(f'mẫu 2 tuân theo phân phối chuẩn')\n",
        "else:\n",
        "    print(f'mẫu 2 không tuân theo phân phối chuẩn')"
      ],
      "execution_count": 10,
      "outputs": [
        {
          "output_type": "stream",
          "text": [
            "mẫu 1 tuân theo phân phối chuẩn\n",
            "mẫu 2 không tuân theo phân phối chuẩn\n"
          ],
          "name": "stdout"
        }
      ]
    },
    {
      "cell_type": "markdown",
      "metadata": {
        "id": "QQXD7s0ZPPcN"
      },
      "source": [
        "Hãy tham khảo các hướng dẫn sau để kiểm định tính chất thứ 3 bằng kiểm định Bartlett hoặc kiểm định Levene\n",
        "\n",
        "(1) [Hướng dẫn tổng quát](https://www.marsja.se/levenes-bartletts-test-of-equality-homogeneity-of-variance-in-python/)\n",
        "\n",
        "(2) [Hướng dẫn ở stackoverflow](https://stackoverflow.com/questions/36141254/how-to-test-for-homoscedasticity-having-the-same-population-variance-in-python)\n",
        "\n",
        "(3) Sử dụng bài giảng về kiểm định Bartlett và Levene ở buổi trước"
      ]
    },
    {
      "cell_type": "code",
      "metadata": {
        "id": "8eujbEdXPPcN"
      },
      "source": [
        "#Code kiểm định tính đồng nhất về phương sai của các nhóm"
      ],
      "execution_count": null,
      "outputs": []
    },
    {
      "cell_type": "code",
      "metadata": {
        "id": "TO-NBfHZPPcN",
        "colab": {
          "base_uri": "https://localhost:8080/"
        },
        "outputId": "9bf35941-6e13-419a-d334-894e7f4f4313"
      },
      "source": [
        "p_3 = stats.levene(sample_1,sample_2)[1]\n",
        "if p_3 > 0.05:\n",
        "    print('Phương sai bằng nhau')\n",
        "else:\n",
        "    print('Phương sai không bằng nhau')"
      ],
      "execution_count": 11,
      "outputs": [
        {
          "output_type": "stream",
          "text": [
            "Phương sai không bằng nhau\n"
          ],
          "name": "stdout"
        }
      ]
    }
  ]
}