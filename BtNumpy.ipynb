{
  "nbformat": 4,
  "nbformat_minor": 0,
  "metadata": {
    "colab": {
      "name": "BtNumpy.ipynb",
      "provenance": [],
      "authorship_tag": "ABX9TyPEvZkghcppjwbj/Cyp7MkH",
      "include_colab_link": true
    },
    "kernelspec": {
      "name": "python3",
      "display_name": "Python 3"
    }
  },
  "cells": [
    {
      "cell_type": "markdown",
      "metadata": {
        "id": "view-in-github",
        "colab_type": "text"
      },
      "source": [
        "<a href=\"https://colab.research.google.com/github/khoa2210/Hoc-Colab/blob/main/BtNumpy.ipynb\" target=\"_parent\"><img src=\"https://colab.research.google.com/assets/colab-badge.svg\" alt=\"Open In Colab\"/></a>"
      ]
    },
    {
      "cell_type": "markdown",
      "metadata": {
        "id": "dSm8j6dzNr6o"
      },
      "source": [
        "Khởi tạo Vecto ma trận "
      ]
    },
    {
      "cell_type": "code",
      "metadata": {
        "id": "cjjrJNgENt64"
      },
      "source": [
        "import numpy as np\r\n",
        "A = np.array([[6, 5], [8, -6]]) \r\n",
        "B = np.array([[9, -3], [2, 6]])"
      ],
      "execution_count": 16,
      "outputs": []
    },
    {
      "cell_type": "markdown",
      "metadata": {
        "id": "YfT5P8W1OQ3w"
      },
      "source": [
        "Các phép toán \r\n"
      ]
    },
    {
      "cell_type": "code",
      "metadata": {
        "colab": {
          "base_uri": "https://localhost:8080/"
        },
        "id": "X1M25cp4OUM4",
        "outputId": "e118645b-2763-4291-f17f-94bb3ec9de72"
      },
      "source": [
        "C = A + B\r\n",
        "print(C) #tong ma tran a va b\r\n",
        "E= A-B\r\n",
        "print(E) #hieu ma tran a va bb\r\n",
        "D = A.dot(B)\r\n",
        "print(D) # tich ma tran a va b\r\n",
        "print(A.transpose()) #chuyen vi ma tran a"
      ],
      "execution_count": 17,
      "outputs": [
        {
          "output_type": "stream",
          "text": [
            "[[15  2]\n",
            " [10  0]]\n",
            "[[ -3   8]\n",
            " [  6 -12]]\n",
            "[[ 64  12]\n",
            " [ 60 -60]]\n",
            "[[ 6  8]\n",
            " [ 5 -6]]\n"
          ],
          "name": "stdout"
        }
      ]
    },
    {
      "cell_type": "markdown",
      "metadata": {
        "id": "WyUUVDZ7QsTS"
      },
      "source": [
        "Mảng giá trị mặc định (0 và 1)"
      ]
    },
    {
      "cell_type": "code",
      "metadata": {
        "colab": {
          "base_uri": "https://localhost:8080/"
        },
        "id": "IwFRKlHPQtk4",
        "outputId": "7d8e799a-1ecd-44db-af78-ab007bbe09da"
      },
      "source": [
        "# Mọi phần tử đều là 0\r\n",
        "a = np.zeros( (2, 3) )\r\n",
        "print(a)\r\n",
        "# Mọi phần tử đều là 1\r\n",
        "b = np.ones( (3, 3) )\r\n",
        "print(b)\r\n",
        "#ma trận đơn vị \r\n",
        "c = np.eye(4)\r\n",
        "print(c)\r\n"
      ],
      "execution_count": 30,
      "outputs": [
        {
          "output_type": "stream",
          "text": [
            "[[0. 0. 0.]\n",
            " [0. 0. 0.]]\n",
            "[[1. 1. 1.]\n",
            " [1. 1. 1.]\n",
            " [1. 1. 1.]]\n",
            "[[1. 0. 0. 0.]\n",
            " [0. 1. 0. 0.]\n",
            " [0. 0. 1. 0.]\n",
            " [0. 0. 0. 1.]]\n"
          ],
          "name": "stdout"
        }
      ]
    },
    {
      "cell_type": "markdown",
      "metadata": {
        "id": "OtCn4VU-RqEA"
      },
      "source": [
        "Xuất các phần tử, cột, dòng của ma trận"
      ]
    },
    {
      "cell_type": "code",
      "metadata": {
        "colab": {
          "base_uri": "https://localhost:8080/"
        },
        "id": "LII7HchYRqPA",
        "outputId": "ad904064-e018-4e9e-aa46-3ccc1dc8470f"
      },
      "source": [
        "print(\"A[0] =\", A[0]) #xuất phần tử đầu tiên \r\n",
        "print(\"A[1] =\", A[1]) # phần tử thứ 2\r\n",
        "# Phần tử đầu tiên của hàng đầu tiên\r\n",
        "print(\"A[0][0] =\", A[0][0])\r\n",
        "\r\n",
        "# Phần tử thứ 2 của hàng thứ 1\r\n",
        "print(\"A[0][1] =\", A[0][1])\r\n",
        "\r\n",
        "# Phần tử cuối cùng của hàng cuối cùng\r\n",
        "print(\"A[-1][-1] =\", A[-1][-1])\r\n",
        "\r\n",
        "print(\"A[:,0] =\",A[:,0]) # Cột đầu tiên\r\n",
        "print(\"A[:,1] =\", A[:,1]) # Cột thứ 2\r\n",
        "print(\"A[:,-1] =\", A[:,-1]) # Cột cuối cùng "
      ],
      "execution_count": 31,
      "outputs": [
        {
          "output_type": "stream",
          "text": [
            "A[0] = [6 5]\n",
            "A[1] = [ 8 -6]\n",
            "A[0][0] = 6\n",
            "A[0][1] = 5\n",
            "A[-1][-1] = -6\n",
            "A[:,0] = [6 8]\n",
            "A[:,1] = [ 5 -6]\n",
            "A[:,-1] = [ 5 -6]\n"
          ],
          "name": "stdout"
        }
      ]
    },
    {
      "cell_type": "markdown",
      "metadata": {
        "id": "Ks9GrGMyTeZ5"
      },
      "source": [
        "Cắt ma trận (chỉnh sửa ảnh )"
      ]
    },
    {
      "cell_type": "code",
      "metadata": {
        "colab": {
          "base_uri": "https://localhost:8080/"
        },
        "id": "Ijk97Ea-To3u",
        "outputId": "8d91dec7-0da7-4580-dd17-6930fb34dd25"
      },
      "source": [
        "x = np.array([[1, 4, 5, 12, 14], \r\n",
        " [-5, 8, 9, 0, 17],\r\n",
        " [-6, 7, 11, 19, 21]])\r\n",
        "print(x[:, 2:5]) # tất cả các hàng, cột 3 đến 5"
      ],
      "execution_count": 33,
      "outputs": [
        {
          "output_type": "stream",
          "text": [
            "[[ 5 12 14]\n",
            " [ 9  0 17]\n",
            " [11 19 21]]\n"
          ],
          "name": "stdout"
        }
      ]
    },
    {
      "cell_type": "markdown",
      "metadata": {
        "id": "Lv1LMtR3VYLJ"
      },
      "source": [
        "Hàm max , min, average"
      ]
    },
    {
      "cell_type": "code",
      "metadata": {
        "colab": {
          "base_uri": "https://localhost:8080/"
        },
        "id": "UViv6DWRVYQv",
        "outputId": "7c83bbf8-e3e7-48b0-dbe8-7005c421fb10"
      },
      "source": [
        "e=np.max(x)\r\n",
        "f=np.min(x)\r\n",
        "g=np.average(x)\r\n",
        "print(e)\r\n",
        "print(f)\r\n",
        "print(g)"
      ],
      "execution_count": 35,
      "outputs": [
        {
          "output_type": "stream",
          "text": [
            "21\n",
            "-6\n",
            "7.8\n"
          ],
          "name": "stdout"
        }
      ]
    }
  ]
}