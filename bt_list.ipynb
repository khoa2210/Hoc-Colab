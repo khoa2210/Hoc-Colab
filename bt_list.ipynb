{
  "nbformat": 4,
  "nbformat_minor": 0,
  "metadata": {
    "colab": {
      "name": "bt list.ipynb",
      "provenance": [],
      "authorship_tag": "ABX9TyMN4MuNfpAMedLAY/g5InBp",
      "include_colab_link": true
    },
    "kernelspec": {
      "name": "python3",
      "display_name": "Python 3"
    }
  },
  "cells": [
    {
      "cell_type": "markdown",
      "metadata": {
        "id": "view-in-github",
        "colab_type": "text"
      },
      "source": [
        "<a href=\"https://colab.research.google.com/github/khoa2210/Hoc-Colab/blob/main/bt_list.ipynb\" target=\"_parent\"><img src=\"https://colab.research.google.com/assets/colab-badge.svg\" alt=\"Open In Colab\"/></a>"
      ]
    },
    {
      "cell_type": "code",
      "metadata": {
        "id": "WMFM2tW66SRw",
        "outputId": "5debf5aa-d1d3-4fdb-a3b3-393ef0b9e603",
        "colab": {
          "base_uri": "https://localhost:8080/"
        }
      },
      "source": [
        "x = []\n",
        "x.append(18)\n",
        "x.append(\"Huế\")\n",
        "y = [12, 45, -1, -0.56, \"abc\"]\n",
        "x = x + y\n",
        "print(\"giá trị của x là \",x)\n",
        "print(\"giá trị đầu tiên của x là \",x[0])\n",
        "print(\"giá trị cuối cùng của x là \",x[len(x)-1])\n",
        "print(\"giá trị từ đầu đến 5 của x là \", x[:5])\n",
        "print(\"giá trị từ 3 đến cuối cùng  của x là \", x[3:])"
      ],
      "execution_count": 28,
      "outputs": [
        {
          "output_type": "stream",
          "text": [
            "giá trị của x là  [18, 'Huế', 12, 45, -1, -0.56, 'abc']\n",
            "giá trị đầu tiên của x là  18\n",
            "giá trị cuối cùng của x là  abc\n",
            "giá trị từ đầu đến 5 của x là  [18, 'Huế', 12, 45, -1]\n",
            "giá trị từ 3 đến cuối cùng  của x là  [45, -1, -0.56, 'abc']\n"
          ],
          "name": "stdout"
        }
      ]
    }
  ]
}