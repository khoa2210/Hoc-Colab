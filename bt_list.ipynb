{
  "nbformat": 4,
  "nbformat_minor": 0,
  "metadata": {
    "colab": {
      "name": "bt list.ipynb",
      "provenance": [],
      "authorship_tag": "ABX9TyMWT/cos/AJuRWkyQLLuwgO",
      "include_colab_link": true
    },
    "kernelspec": {
      "name": "python3",
      "display_name": "Python 3"
    }
  },
  "cells": [
    {
      "cell_type": "markdown",
      "metadata": {
        "id": "view-in-github",
        "colab_type": "text"
      },
      "source": [
        "<a href=\"https://colab.research.google.com/github/khoa2210/Hoc-Colab/blob/main/bt_list.ipynb\" target=\"_parent\"><img src=\"https://colab.research.google.com/assets/colab-badge.svg\" alt=\"Open In Colab\"/></a>"
      ]
    },
    {
      "cell_type": "code",
      "metadata": {
        "id": "WMFM2tW66SRw",
        "outputId": "daac001d-74f3-4e11-da16-177e2c09df10",
        "colab": {
          "base_uri": "https://localhost:8080/"
        }
      },
      "source": [
        "x = []\n",
        "x.append(18)\n",
        "x.append(\"Huế\")\n",
        "y = [12, 45, -1, -0.56, \"abc\"]\n",
        "x = x + y\n",
        "print(\"giá trị của x là \",x)\n",
        "print(\"giá trị đầu tiên của x là \",x[0])\n",
        "print(\"giá trị cuối cùng của x là \",x[len(x)-11])\n",
        "print(\"giá trị từ đầu đến 5 của x là \", x[:5])\n",
        "print(\"giá trị từ 3 đến cuối cùng  của x là \", x[3:])"
      ],
      "execution_count": 27,
      "outputs": [
        {
          "output_type": "stream",
          "text": [
            "giá trị của x là  [18, 'Huế', 12, 45, -1, -0.56, 'abc']\n",
            "giá trị đầu tiên của x là  18\n",
            "giá trị cuối cùng của x là  45\n",
            "giá trị từ đầu đến 5 của x là  [18, 'Huế', 12, 45, -1]\n",
            "giá trị từ 3 đến cuối cùng  của x là  [45, -1, -0.56, 'abc']\n"
          ],
          "name": "stdout"
        }
      ]
    }
  ]
}