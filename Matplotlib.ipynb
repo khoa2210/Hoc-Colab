{
  "nbformat": 4,
  "nbformat_minor": 0,
  "metadata": {
    "colab": {
      "name": "Matplotlib.ipynb",
      "provenance": [],
      "authorship_tag": "ABX9TyP1Hi709zHa5eMrMApylRgX",
      "include_colab_link": true
    },
    "kernelspec": {
      "name": "python3",
      "display_name": "Python 3"
    }
  },
  "cells": [
    {
      "cell_type": "markdown",
      "metadata": {
        "id": "view-in-github",
        "colab_type": "text"
      },
      "source": [
        "<a href=\"https://colab.research.google.com/github/khoa2210/Hoc-Colab/blob/main/Matplotlib.ipynb\" target=\"_parent\"><img src=\"https://colab.research.google.com/assets/colab-badge.svg\" alt=\"Open In Colab\"/></a>"
      ]
    },
    {
      "cell_type": "markdown",
      "metadata": {
        "id": "LooD_ZRQBzDi"
      },
      "source": [
        "Tạo biểu đồ đơn giản với thư viện matplotlib\r\n"
      ]
    },
    {
      "cell_type": "code",
      "metadata": {
        "id": "ehf97hsUBzNz"
      },
      "source": [
        "import matplotlib.pyplot as plt\r\n",
        "import numpy as np"
      ],
      "execution_count": 1,
      "outputs": []
    },
    {
      "cell_type": "markdown",
      "metadata": {
        "id": "oLcjQGuOCnBE"
      },
      "source": [
        "– plt.figure(): tạo một figure\r\n",
        "\r\n",
        "– plt.plot(): vẽ đồ thị với giá trị trục x so với trục y\r\n",
        "\r\n",
        "– plt.xlabel(): đặt tên cho trục x\r\n",
        "\r\n",
        "– plt.ylabel(): đặt tên cho trục y\r\n",
        "\r\n",
        "– plt.title(): đặt tên cho figure\r\n",
        "\r\n",
        "– plt.grid(): hiển thị các đường lưới\r\n",
        "\r\n",
        "– plt.legend(): hiển thị chú thích cho đồ thị\r\n",
        "\r\n",
        "– plt.savefig(): lưu hình về máy\r\n",
        "\r\n",
        "– plt.show(): hiển thị hình vẽ\r\n",
        "\r\n",
        "– plt.clf(): xoá hình hiện tại \r\n"
      ]
    },
    {
      "cell_type": "markdown",
      "metadata": {
        "id": "ixlhRQl1CtYT"
      },
      "source": [
        "Biểu đồ Bar"
      ]
    },
    {
      "cell_type": "code",
      "metadata": {
        "colab": {
          "base_uri": "https://localhost:8080/",
          "height": 295
        },
        "id": "emA8XHrEDNxQ",
        "outputId": "2a2094be-8811-40a0-f55f-e3e7be6ec98e"
      },
      "source": [
        "\r\n",
        "color_names = [\"Hung\", \"Hai\", \"Hung\", \"Khanh\", \"Long\"]\r\n",
        "colors = [\"#3498db\", \"#fd79a8\", \"#f1c40f\", \"#273c75\", \"#e74c3c\"]\r\n",
        "num_favorite = [10,3,4,5,6]\r\n",
        "xs = [i + 0.03 for i, _ in enumerate(color_names)]\r\n",
        "plt.bar(xs, num_favorite, color=colors)\r\n",
        "plt.title(\"Hoc sinh lop 9\")\r\n",
        "plt.xticks([i+0.1 for i, _ in enumerate(color_names)], color_names)\r\n",
        "plt.xlabel(\"Ten\")\r\n",
        "plt.ylabel(\"Diem\")\r\n",
        "plt.show()"
      ],
      "execution_count": 3,
      "outputs": [
        {
          "output_type": "display_data",
          "data": {
            "image/png": "[encoded data removed]",
            "text/plain": [
              "<Figure size 432x288 with 1 Axes>"
            ]
          },
          "metadata": {
            "tags": [],
            "needs_background": "light"
          }
        }
      ]
    },
    {
      "cell_type": "markdown",
      "metadata": {
        "id": "k73pqlQbDSMq"
      },
      "source": [
        "Biểu đồ box plit "
      ]
    },
    {
      "cell_type": "code",
      "metadata": {
        "colab": {
          "base_uri": "https://localhost:8080/",
          "height": 350
        },
        "id": "VYMwQZWODSR2",
        "outputId": "0f66a258-8725-471f-9c5d-c3f8dd0c89b8"
      },
      "source": [
        "x = np.random.randn(30) + np.arange(0, 30)*0.75 + 10\r\n",
        "y = np.random.randn(10) + np.arange(0, 10)*1.0 +20\r\n",
        "z = np.random.randn(10) + np.arange(0, 10)*0.5 + 5\r\n",
        "t = np.random.randn(40) + np.arange(0, 40)*0.4 + 0.0\r\n",
        "\r\n",
        "plt.boxplot([x, y, z, t],\r\n",
        "            labels = ['Mùa Xuân', 'Mùa Hạ', 'Mùa Thu','Mùa Đông'],\r\n",
        "            showfliers = True)\r\n",
        "\r\n",
        "plt.title('''bieu do the hien su bien thien nhiet do''')\r\n",
        "plt.xlabel('Mùa')\r\n",
        "plt.ylabel('Chỉ số nhiệt độ ')\r\n",
        "plt.show()"
      ],
      "execution_count": 5,
      "outputs": [
        {
          "output_type": "stream",
          "text": [
            "/usr/local/lib/python3.6/dist-packages/numpy/core/_asarray.py:83: VisibleDeprecationWarning: Creating an ndarray from ragged nested sequences (which is a list-or-tuple of lists-or-tuples-or ndarrays with different lengths or shapes) is deprecated. If you meant to do this, you must specify 'dtype=object' when creating the ndarray\n",
            "  return array(a, dtype, copy=False, order=order)\n"
          ],
          "name": "stderr"
        },
        {
          "output_type": "display_data",
          "data": {
            "image/png": "[encoded data removed]",
            "text/plain": [
              "<Figure size 432x288 with 1 Axes>"
            ]
          },
          "metadata": {
            "tags": [],
            "needs_background": "light"
          }
        }
      ]
    },
    {
      "cell_type": "markdown",
      "metadata": {
        "id": "GHCnHLfvDgoK"
      },
      "source": [
        "Biểu đồ collum"
      ]
    },
    {
      "cell_type": "code",
      "metadata": {
        "colab": {
          "base_uri": "https://localhost:8080/",
          "height": 313
        },
        "id": "MWtE_UWeDgxp",
        "outputId": "81d19318-7c1d-4f21-b1ba-344fcf30e7f9"
      },
      "source": [
        "bt, bt_std = (4, 7, 3, 5, 2), (3, 4, 5, 2, 3)\r\n",
        "btvn, btvn_std = (1, 1, 9, 13, 7), (4, 6, 3, 4, 4)\r\n",
        "ind = np.arange(len(bt))\r\n",
        "width = 0.35\r\n",
        "fig, ax = plt.subplots()\r\n",
        "rects1 = ax.bar(ind - width/2, bt, width, yerr=bt_std,\r\n",
        "                label='Bài tập ',color='#74b9ff')\r\n",
        "rects2 = ax.bar(ind + width/2, btvn, width, yerr=btvn_std,\r\n",
        "                label='BTVN',color='#d63031')\r\n",
        "ax.set_xticks(ind)\r\n",
        "ax.set_xticklabels(('Tháng 1', 'Tháng 2', 'Tháng 3', 'Tháng 4', 'Tháng 5'))\r\n",
        "plt.title('''   Biểu đồ thể hiện so bai tap\r\n",
        "   bài tập lập trình ''')\r\n",
        "plt.xlabel(\"Thời gian trải qua\")\r\n",
        "plt.ylabel(\"Số bài tập \")\r\n",
        "ax.legend()\r\n",
        "plt.show()"
      ],
      "execution_count": 6,
      "outputs": [
        {
          "output_type": "display_data",
          "data": {
            "image/png": "[encoded data removed]",
            "text/plain": [
              "<Figure size 432x288 with 1 Axes>"
            ]
          },
          "metadata": {
            "tags": [],
            "needs_background": "light"
          }
        }
      ]
    },
    {
      "cell_type": "markdown",
      "metadata": {
        "id": "ragy0YVCDtFT"
      },
      "source": [
        "Biểu đồ đường "
      ]
    },
    {
      "cell_type": "code",
      "metadata": {
        "colab": {
          "base_uri": "https://localhost:8080/",
          "height": 320
        },
        "id": "RJ3p_GLDDtLS",
        "outputId": "4e2405f2-36ee-4a39-80cb-5732776c990c"
      },
      "source": [
        "plt.figure(figsize=(15,5))\r\n",
        "plt.plot([1,2,3,4],[1,3,5,7])\r\n",
        "plt.show()"
      ],
      "execution_count": 7,
      "outputs": [
        {
          "output_type": "display_data",
          "data": {
            "image/png": "[encoded data removed]",
            "text/plain": [
              "<Figure size 1080x360 with 1 Axes>"
            ]
          },
          "metadata": {
            "tags": [],
            "needs_background": "light"
          }
        }
      ]
    }
  ]
}