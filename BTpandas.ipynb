{
  "nbformat": 4,
  "nbformat_minor": 0,
  "metadata": {
    "colab": {
      "name": "BTpandas.ipynb",
      "provenance": [],
      "authorship_tag": "ABX9TyOgDJue5XhhhJ4wmWyvSvnc",
      "include_colab_link": true
    },
    "kernelspec": {
      "name": "python3",
      "display_name": "Python 3"
    }
  },
  "cells": [
    {
      "cell_type": "markdown",
      "metadata": {
        "id": "view-in-github",
        "colab_type": "text"
      },
      "source": [
        "<a href=\"https://colab.research.google.com/github/khoa2210/Hoc-Colab/blob/main/BTpandas.ipynb\" target=\"_parent\"><img src=\"https://colab.research.google.com/assets/colab-badge.svg\" alt=\"Open In Colab\"/></a>"
      ]
    },
    {
      "cell_type": "markdown",
      "metadata": {
        "id": "VaPJVpnwUhBT"
      },
      "source": [
        "Đọc file Csv "
      ]
    },
    {
      "cell_type": "markdown",
      "metadata": {
        "id": "bn_fXFvaVlAK"
      },
      "source": [
        "Thư viện pandas "
      ]
    },
    {
      "cell_type": "code",
      "metadata": {
        "colab": {
          "base_uri": "https://localhost:8080/"
        },
        "id": "3hE9IbTNWPXx",
        "outputId": "a58ace7b-b27d-4385-881d-f36bb79a0116"
      },
      "source": [
        "import pandas as pd\r\n",
        "result = pd.read_csv('https://www.stats.govt.nz/assets/Uploads/Business-price-indexes/Business-price-indexes-September-2020-quarter/Download-data/business-price-indexes-september-2020-quarter-corrections-to-previously-published-statistics.csv')\r\n",
        "print(result.head(10)) #đọc file csv 10 hàng đầu "
      ],
      "execution_count": null,
      "outputs": [
        {
          "output_type": "stream",
          "text": [
            "  Series reference  ... Revised\n",
            "0   PPIQ.SQU900000  ...    1184\n",
            "1   PPIQ.SQU900001  ...    1181\n",
            "2   PPIQ.SQUC76745  ...    1603\n",
            "3   PPIQ.SQUCC3100  ...    1170\n",
            "4   PPIQ.SQUCC3110  ...    1170\n",
            "5   PPIQ.SQUFF0000  ...    1133\n",
            "6   PPIQ.SQUFF1000  ...    1133\n",
            "7   PPIQ.SQUFF1100  ...    1133\n",
            "8   PPIQ.SQUFF1110  ...    1149\n",
            "9   PPIQ.SQUFF1160  ...    1112\n",
            "\n",
            "[10 rows x 5 columns]\n"
          ],
          "name": "stdout"
        }
      ]
    },
    {
      "cell_type": "markdown",
      "metadata": {
        "id": "FlHGhNAtWt3i"
      },
      "source": [
        "encoding: chỉ định encoding của file đọc vào. Mặc định là utf-8.\r\n",
        "\r\n",
        "sep: thay đổi dấu ngăn cách giữa các cột. Mặc định là dấu phẩy (‘,’)\r\n",
        "\r\n",
        "header: chỉ định file đọc vào có header(tiêu đề của các cột) hay không. Mặc định là infer.\r\n",
        "\r\n",
        "index_col: chỉ định chỉ số cột nào là cột chỉ số(số thứ tự). Mặc định là None.\r\n",
        "\r\n",
        "nrows: chỉ định số bản ghi sẽ đọc vào. Mặc định là None – đọc toàn bộ."
      ]
    },
    {
      "cell_type": "markdown",
      "metadata": {
        "id": "A9u7AXnbXO4a"
      },
      "source": [
        "Xem thông tin "
      ]
    },
    {
      "cell_type": "code",
      "metadata": {
        "colab": {
          "base_uri": "https://localhost:8080/"
        },
        "id": "KEBTspRiXSIS",
        "outputId": "3ecd18fd-4cbd-4834-c210-7ab82174471a"
      },
      "source": [
        "# Xem chiều dài của df, tương đương shape[0]\r\n",
        "print('Len:', len(result))\r\n",
        "# Xem kích thước của dataframe\r\n",
        "print('Shape:', result.shape)"
      ],
      "execution_count": null,
      "outputs": [
        {
          "output_type": "stream",
          "text": [
            "Len: 78\n",
            "Shape: (78, 5)\n"
          ],
          "name": "stdout"
        }
      ]
    },
    {
      "cell_type": "markdown",
      "metadata": {
        "id": "QOnj0A18Xokp"
      },
      "source": [
        "Lấy bản ghi theo chỉ số"
      ]
    },
    {
      "cell_type": "code",
      "metadata": {
        "colab": {
          "base_uri": "https://localhost:8080/",
          "height": 195
        },
        "id": "klf1K9VhXowp",
        "outputId": "7756eefd-ce34-4d03-8319-84996f1fbf62"
      },
      "source": [
        "result[0:5]"
      ],
      "execution_count": null,
      "outputs": [
        {
          "output_type": "execute_result",
          "data": {
            "text/html": [
              "<div>\n",
              "<style scoped>\n",
              "    .dataframe tbody tr th:only-of-type {\n",
              "        vertical-align: middle;\n",
              "    }\n",
              "\n",
              "    .dataframe tbody tr th {\n",
              "        vertical-align: top;\n",
              "    }\n",
              "\n",
              "    .dataframe thead th {\n",
              "        text-align: right;\n",
              "    }\n",
              "</style>\n",
              "<table border=\"1\" class=\"dataframe\">\n",
              "  <thead>\n",
              "    <tr style=\"text-align: right;\">\n",
              "      <th></th>\n",
              "      <th>Series reference</th>\n",
              "      <th>Description</th>\n",
              "      <th>Period</th>\n",
              "      <th>Previously published</th>\n",
              "      <th>Revised</th>\n",
              "    </tr>\n",
              "  </thead>\n",
              "  <tbody>\n",
              "    <tr>\n",
              "      <th>0</th>\n",
              "      <td>PPIQ.SQU900000</td>\n",
              "      <td>PPI output index - All industries</td>\n",
              "      <td>2020.06</td>\n",
              "      <td>1183</td>\n",
              "      <td>1184</td>\n",
              "    </tr>\n",
              "    <tr>\n",
              "      <th>1</th>\n",
              "      <td>PPIQ.SQU900001</td>\n",
              "      <td>PPI output index - All industries excl OOD</td>\n",
              "      <td>2020.06</td>\n",
              "      <td>1180</td>\n",
              "      <td>1181</td>\n",
              "    </tr>\n",
              "    <tr>\n",
              "      <th>2</th>\n",
              "      <td>PPIQ.SQUC76745</td>\n",
              "      <td>PPI published output commodity - Transport sup...</td>\n",
              "      <td>2020.06</td>\n",
              "      <td>1400</td>\n",
              "      <td>1603</td>\n",
              "    </tr>\n",
              "    <tr>\n",
              "      <th>3</th>\n",
              "      <td>PPIQ.SQUCC3100</td>\n",
              "      <td>PPI output index level 3 - Wood product manufa...</td>\n",
              "      <td>2020.06</td>\n",
              "      <td>1169</td>\n",
              "      <td>1170</td>\n",
              "    </tr>\n",
              "    <tr>\n",
              "      <th>4</th>\n",
              "      <td>PPIQ.SQUCC3110</td>\n",
              "      <td>PPI output index level 4 - Wood product manufa...</td>\n",
              "      <td>2020.06</td>\n",
              "      <td>1169</td>\n",
              "      <td>1170</td>\n",
              "    </tr>\n",
              "  </tbody>\n",
              "</table>\n",
              "</div>"
            ],
            "text/plain": [
              "  Series reference  ... Revised\n",
              "0   PPIQ.SQU900000  ...    1184\n",
              "1   PPIQ.SQU900001  ...    1181\n",
              "2   PPIQ.SQUC76745  ...    1603\n",
              "3   PPIQ.SQUCC3100  ...    1170\n",
              "4   PPIQ.SQUCC3110  ...    1170\n",
              "\n",
              "[5 rows x 5 columns]"
            ]
          },
          "metadata": {
            "tags": []
          },
          "execution_count": 6
        }
      ]
    },
    {
      "cell_type": "markdown",
      "metadata": {
        "id": "Bxhc62gkYKZZ"
      },
      "source": [
        "Truy xuất dữ liệu trên dataframe\r\n",
        "\r\n",
        "Lấy 1 cột theo tên cột\r\n",
        "\r\n",
        "\r\n"
      ]
    },
    {
      "cell_type": "code",
      "metadata": {
        "id": "uOKDlzRxYKf6",
        "colab": {
          "base_uri": "https://localhost:8080/"
        },
        "outputId": "11dddfbb-060c-43ba-f8bc-4f941e2735e0"
      },
      "source": [
        "result['Revised']"
      ],
      "execution_count": 7,
      "outputs": [
        {
          "output_type": "execute_result",
          "data": {
            "text/plain": [
              "0     1184\n",
              "1     1181\n",
              "2     1603\n",
              "3     1170\n",
              "4     1170\n",
              "      ... \n",
              "73    1195\n",
              "74    1127\n",
              "75    1120\n",
              "76    1068\n",
              "77    1110\n",
              "Name: Revised, Length: 78, dtype: int64"
            ]
          },
          "metadata": {
            "tags": []
          },
          "execution_count": 7
        }
      ]
    },
    {
      "cell_type": "markdown",
      "metadata": {
        "id": "m5RhsB6AYjmK"
      },
      "source": [
        "Lấy theo nhiều cột"
      ]
    },
    {
      "cell_type": "code",
      "metadata": {
        "colab": {
          "base_uri": "https://localhost:8080/",
          "height": 195
        },
        "id": "lzpPCVRQYjwS",
        "outputId": "ebd524e0-5377-41ee-9a04-73dc919188fa"
      },
      "source": [
        "result[['Description', 'Revised']].head(5)"
      ],
      "execution_count": 10,
      "outputs": [
        {
          "output_type": "execute_result",
          "data": {
            "text/html": [
              "<div>\n",
              "<style scoped>\n",
              "    .dataframe tbody tr th:only-of-type {\n",
              "        vertical-align: middle;\n",
              "    }\n",
              "\n",
              "    .dataframe tbody tr th {\n",
              "        vertical-align: top;\n",
              "    }\n",
              "\n",
              "    .dataframe thead th {\n",
              "        text-align: right;\n",
              "    }\n",
              "</style>\n",
              "<table border=\"1\" class=\"dataframe\">\n",
              "  <thead>\n",
              "    <tr style=\"text-align: right;\">\n",
              "      <th></th>\n",
              "      <th>Description</th>\n",
              "      <th>Revised</th>\n",
              "    </tr>\n",
              "  </thead>\n",
              "  <tbody>\n",
              "    <tr>\n",
              "      <th>0</th>\n",
              "      <td>PPI output index - All industries</td>\n",
              "      <td>1184</td>\n",
              "    </tr>\n",
              "    <tr>\n",
              "      <th>1</th>\n",
              "      <td>PPI output index - All industries excl OOD</td>\n",
              "      <td>1181</td>\n",
              "    </tr>\n",
              "    <tr>\n",
              "      <th>2</th>\n",
              "      <td>PPI published output commodity - Transport sup...</td>\n",
              "      <td>1603</td>\n",
              "    </tr>\n",
              "    <tr>\n",
              "      <th>3</th>\n",
              "      <td>PPI output index level 3 - Wood product manufa...</td>\n",
              "      <td>1170</td>\n",
              "    </tr>\n",
              "    <tr>\n",
              "      <th>4</th>\n",
              "      <td>PPI output index level 4 - Wood product manufa...</td>\n",
              "      <td>1170</td>\n",
              "    </tr>\n",
              "  </tbody>\n",
              "</table>\n",
              "</div>"
            ],
            "text/plain": [
              "                                         Description  Revised\n",
              "0                 PPI output index - All industries      1184\n",
              "1         PPI output index - All industries excl OOD     1181\n",
              "2  PPI published output commodity - Transport sup...     1603\n",
              "3  PPI output index level 3 - Wood product manufa...     1170\n",
              "4  PPI output index level 4 - Wood product manufa...     1170"
            ]
          },
          "metadata": {
            "tags": []
          },
          "execution_count": 10
        }
      ]
    },
    {
      "cell_type": "markdown",
      "metadata": {
        "id": "HKLdfBd0ZbDK"
      },
      "source": [
        "Thêm bản ghi trong dataframe\r\n",
        "\r\n",
        "Sửa giá trị của cột\r\n",
        "\r\n"
      ]
    },
    {
      "cell_type": "code",
      "metadata": {
        "id": "JOtWxQPfZbKh"
      },
      "source": [
        "result['Revised'] = None"
      ],
      "execution_count": 11,
      "outputs": []
    },
    {
      "cell_type": "markdown",
      "metadata": {
        "id": "8kZFqAjuZ8KS"
      },
      "source": [
        "Xóa cột trong dataframe"
      ]
    },
    {
      "cell_type": "code",
      "metadata": {
        "colab": {
          "base_uri": "https://localhost:8080/",
          "height": 402
        },
        "id": "pryEpnEEZ8WI",
        "outputId": "1e29f56e-5c9c-4d07-b565-a81cf03e5f12"
      },
      "source": [
        "result.drop(columns=['Description', 'Revised']) # Xóa các cột có tên "
      ],
      "execution_count": 13,
      "outputs": [
        {
          "output_type": "execute_result",
          "data": {
            "text/html": [
              "<div>\n",
              "<style scoped>\n",
              "    .dataframe tbody tr th:only-of-type {\n",
              "        vertical-align: middle;\n",
              "    }\n",
              "\n",
              "    .dataframe tbody tr th {\n",
              "        vertical-align: top;\n",
              "    }\n",
              "\n",
              "    .dataframe thead th {\n",
              "        text-align: right;\n",
              "    }\n",
              "</style>\n",
              "<table border=\"1\" class=\"dataframe\">\n",
              "  <thead>\n",
              "    <tr style=\"text-align: right;\">\n",
              "      <th></th>\n",
              "      <th>Series reference</th>\n",
              "      <th>Period</th>\n",
              "      <th>Previously published</th>\n",
              "    </tr>\n",
              "  </thead>\n",
              "  <tbody>\n",
              "    <tr>\n",
              "      <th>0</th>\n",
              "      <td>PPIQ.SQU900000</td>\n",
              "      <td>2020.06</td>\n",
              "      <td>1183</td>\n",
              "    </tr>\n",
              "    <tr>\n",
              "      <th>1</th>\n",
              "      <td>PPIQ.SQU900001</td>\n",
              "      <td>2020.06</td>\n",
              "      <td>1180</td>\n",
              "    </tr>\n",
              "    <tr>\n",
              "      <th>2</th>\n",
              "      <td>PPIQ.SQUC76745</td>\n",
              "      <td>2020.06</td>\n",
              "      <td>1400</td>\n",
              "    </tr>\n",
              "    <tr>\n",
              "      <th>3</th>\n",
              "      <td>PPIQ.SQUCC3100</td>\n",
              "      <td>2020.06</td>\n",
              "      <td>1169</td>\n",
              "    </tr>\n",
              "    <tr>\n",
              "      <th>4</th>\n",
              "      <td>PPIQ.SQUCC3110</td>\n",
              "      <td>2020.06</td>\n",
              "      <td>1169</td>\n",
              "    </tr>\n",
              "    <tr>\n",
              "      <th>...</th>\n",
              "      <td>...</td>\n",
              "      <td>...</td>\n",
              "      <td>...</td>\n",
              "    </tr>\n",
              "    <tr>\n",
              "      <th>73</th>\n",
              "      <td>PPIQ.SQNMN2100</td>\n",
              "      <td>2020.06</td>\n",
              "      <td>1194</td>\n",
              "    </tr>\n",
              "    <tr>\n",
              "      <th>74</th>\n",
              "      <td>PPIQ.SQNRS211X</td>\n",
              "      <td>2020.06</td>\n",
              "      <td>1126</td>\n",
              "    </tr>\n",
              "    <tr>\n",
              "      <th>75</th>\n",
              "      <td>FPIQ.SEC14</td>\n",
              "      <td>2020.06</td>\n",
              "      <td>1102</td>\n",
              "    </tr>\n",
              "    <tr>\n",
              "      <th>76</th>\n",
              "      <td>FPIQ.SEC99</td>\n",
              "      <td>2020.06</td>\n",
              "      <td>1067</td>\n",
              "    </tr>\n",
              "    <tr>\n",
              "      <th>77</th>\n",
              "      <td>FPIQ.SEH14</td>\n",
              "      <td>2020.06</td>\n",
              "      <td>1102</td>\n",
              "    </tr>\n",
              "  </tbody>\n",
              "</table>\n",
              "<p>78 rows × 3 columns</p>\n",
              "</div>"
            ],
            "text/plain": [
              "   Series reference   Period  Previously published\n",
              "0    PPIQ.SQU900000  2020.06                  1183\n",
              "1    PPIQ.SQU900001  2020.06                  1180\n",
              "2    PPIQ.SQUC76745  2020.06                  1400\n",
              "3    PPIQ.SQUCC3100  2020.06                  1169\n",
              "4    PPIQ.SQUCC3110  2020.06                  1169\n",
              "..              ...      ...                   ...\n",
              "73   PPIQ.SQNMN2100  2020.06                  1194\n",
              "74   PPIQ.SQNRS211X  2020.06                  1126\n",
              "75       FPIQ.SEC14  2020.06                  1102\n",
              "76       FPIQ.SEC99  2020.06                  1067\n",
              "77       FPIQ.SEH14  2020.06                  1102\n",
              "\n",
              "[78 rows x 3 columns]"
            ]
          },
          "metadata": {
            "tags": []
          },
          "execution_count": 13
        }
      ]
    },
    {
      "cell_type": "markdown",
      "metadata": {
        "id": "u3TeMkykaO5g"
      },
      "source": [
        "Sử dụng hàm describe() cho bạn các thống kê cơ bản về dữ liệu:"
      ]
    },
    {
      "cell_type": "code",
      "metadata": {
        "colab": {
          "base_uri": "https://localhost:8080/",
          "height": 284
        },
        "id": "nOpi49xqaO_Z",
        "outputId": "12ad9186-a7d4-4ddd-9772-f4788c210158"
      },
      "source": [
        "result.describe()"
      ],
      "execution_count": 14,
      "outputs": [
        {
          "output_type": "execute_result",
          "data": {
            "text/html": [
              "<div>\n",
              "<style scoped>\n",
              "    .dataframe tbody tr th:only-of-type {\n",
              "        vertical-align: middle;\n",
              "    }\n",
              "\n",
              "    .dataframe tbody tr th {\n",
              "        vertical-align: top;\n",
              "    }\n",
              "\n",
              "    .dataframe thead th {\n",
              "        text-align: right;\n",
              "    }\n",
              "</style>\n",
              "<table border=\"1\" class=\"dataframe\">\n",
              "  <thead>\n",
              "    <tr style=\"text-align: right;\">\n",
              "      <th></th>\n",
              "      <th>Period</th>\n",
              "      <th>Previously published</th>\n",
              "    </tr>\n",
              "  </thead>\n",
              "  <tbody>\n",
              "    <tr>\n",
              "      <th>count</th>\n",
              "      <td>7.800000e+01</td>\n",
              "      <td>78.000000</td>\n",
              "    </tr>\n",
              "    <tr>\n",
              "      <th>mean</th>\n",
              "      <td>2.020060e+03</td>\n",
              "      <td>1157.256410</td>\n",
              "    </tr>\n",
              "    <tr>\n",
              "      <th>std</th>\n",
              "      <td>1.601918e-12</td>\n",
              "      <td>82.629581</td>\n",
              "    </tr>\n",
              "    <tr>\n",
              "      <th>min</th>\n",
              "      <td>2.020060e+03</td>\n",
              "      <td>903.000000</td>\n",
              "    </tr>\n",
              "    <tr>\n",
              "      <th>25%</th>\n",
              "      <td>2.020060e+03</td>\n",
              "      <td>1124.500000</td>\n",
              "    </tr>\n",
              "    <tr>\n",
              "      <th>50%</th>\n",
              "      <td>2.020060e+03</td>\n",
              "      <td>1151.500000</td>\n",
              "    </tr>\n",
              "    <tr>\n",
              "      <th>75%</th>\n",
              "      <td>2.020060e+03</td>\n",
              "      <td>1192.750000</td>\n",
              "    </tr>\n",
              "    <tr>\n",
              "      <th>max</th>\n",
              "      <td>2.020060e+03</td>\n",
              "      <td>1415.000000</td>\n",
              "    </tr>\n",
              "  </tbody>\n",
              "</table>\n",
              "</div>"
            ],
            "text/plain": [
              "             Period  Previously published\n",
              "count  7.800000e+01             78.000000\n",
              "mean   2.020060e+03           1157.256410\n",
              "std    1.601918e-12             82.629581\n",
              "min    2.020060e+03            903.000000\n",
              "25%    2.020060e+03           1124.500000\n",
              "50%    2.020060e+03           1151.500000\n",
              "75%    2.020060e+03           1192.750000\n",
              "max    2.020060e+03           1415.000000"
            ]
          },
          "metadata": {
            "tags": []
          },
          "execution_count": 14
        }
      ]
    },
    {
      "cell_type": "markdown",
      "metadata": {
        "id": "FgP9GHSNaiFA"
      },
      "source": [
        "vẽ đồ thị xem phân bố giá trị của một trường trong dataframe "
      ]
    },
    {
      "cell_type": "code",
      "metadata": {
        "colab": {
          "base_uri": "https://localhost:8080/",
          "height": 313
        },
        "id": "__PjANP0aiKh",
        "outputId": "9d8728d1-f3db-41c8-d4a6-654a66e16ddb"
      },
      "source": [
        "result['Period'].value_counts().plot(kind='bar')"
      ],
      "execution_count": 16,
      "outputs": [
        {
          "output_type": "execute_result",
          "data": {
            "text/plain": [
              "<matplotlib.axes._subplots.AxesSubplot at 0x7f26edf098d0>"
            ]
          },
          "metadata": {
            "tags": []
          },
          "execution_count": 16
        },
        {
          "output_type": "display_data",
          "data": {
            "image/png": "[encoded data removed]",
            "text/plain": [
              "<Figure size 432x288 with 1 Axes>"
            ]
          },
          "metadata": {
            "tags": [],
            "needs_background": "light"
          }
        }
      ]
    },
    {
      "cell_type": "markdown",
      "metadata": {
        "id": "ed7jJUTaawgC"
      },
      "source": [
        "Lưu dataframe về file csv"
      ]
    },
    {
      "cell_type": "code",
      "metadata": {
        "id": "8h_FmMrCawmq"
      },
      "source": [
        "result.to_csv('comments.csv')"
      ],
      "execution_count": 17,
      "outputs": []
    }
  ]
}