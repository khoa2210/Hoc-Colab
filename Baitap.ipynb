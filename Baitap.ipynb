{
  "nbformat": 4,
  "nbformat_minor": 0,
  "metadata": {
    "colab": {
      "name": "Baitap.ipynb",
      "provenance": [],
      "authorship_tag": "ABX9TyNyakY5TOBf2NfvUDOQY1+6",
      "include_colab_link": true
    },
    "kernelspec": {
      "name": "python3",
      "display_name": "Python 3"
    }
  },
  "cells": [
    {
      "cell_type": "markdown",
      "metadata": {
        "id": "view-in-github",
        "colab_type": "text"
      },
      "source": [
        "<a href=\"https://colab.research.google.com/github/khoa2210/Hoc-Colab/blob/main/Baitap.ipynb\" target=\"_parent\"><img src=\"https://colab.research.google.com/assets/colab-badge.svg\" alt=\"Open In Colab\"/></a>"
      ]
    },
    {
      "cell_type": "markdown",
      "metadata": {
        "id": "YGT-1QHESjjC"
      },
      "source": [
        "Bài 1"
      ]
    },
    {
      "cell_type": "code",
      "metadata": {
        "id": "9rNbBJKsSklJ",
        "outputId": "5a540346-4ce1-4d74-e5ec-01d6d9a69f42",
        "colab": {
          "base_uri": "https://localhost:8080/"
        }
      },
      "source": [
        "a = int(input(\"a=\"))\n",
        "b = int(input(\"b=\"))\n",
        "print(\"tong a va b=\",a+b)\n",
        "print(\"tich a va b=\",a*b)\n",
        "print(\"hieu a va b=\",a-b)\n",
        "print(\"phan du a va b=\",a%b)\n",
        "print(\"phan nguyen a va b=\",a//b)"
      ],
      "execution_count": null,
      "outputs": [
        {
          "output_type": "stream",
          "text": [
            "a=5\n",
            "b=2\n",
            "tong a va b= 7\n",
            "tich a va b= 10\n",
            "hieu a va b= 3\n",
            "phan du a va b= 1\n",
            "phan nguyen a va b= 2\n"
          ],
          "name": "stdout"
        }
      ]
    },
    {
      "cell_type": "markdown",
      "metadata": {
        "id": "QC0z-sVvWCeT"
      },
      "source": [
        "Bai 2"
      ]
    },
    {
      "cell_type": "code",
      "metadata": {
        "id": "qjR06kO-WCny",
        "outputId": "4a20429f-8a6b-482e-bf9f-b66f78757c9c",
        "colab": {
          "base_uri": "https://localhost:8080/"
        }
      },
      "source": [
        "x = float(input(\"x =\"))\n",
        "y = float(input(\"y =\"))\n",
        "print(\"tong x va y\",x+y)\n",
        "print(\"hieu x va y\",x-y)\n",
        "print(\"tich x va y\",x*y)\n",
        "print(\"thuong x va y\",x/y)"
      ],
      "execution_count": null,
      "outputs": [
        {
          "output_type": "stream",
          "text": [
            "x =3\n",
            "y =7\n",
            "tong x va y 10.0\n",
            "hieu x va y -4.0\n",
            "tich x va y 21.0\n",
            "thuong x va y 0.42857142857142855\n"
          ],
          "name": "stdout"
        }
      ]
    },
    {
      "cell_type": "markdown",
      "metadata": {
        "id": "5_5bqtPtzwV8"
      },
      "source": [
        "Bai 3"
      ]
    },
    {
      "cell_type": "code",
      "metadata": {
        "id": "MNLBsuIGzwd5",
        "outputId": "13d93dd6-ef26-4004-a2b1-934beb43f9aa",
        "colab": {
          "base_uri": "https://localhost:8080/"
        }
      },
      "source": [
        "q = float(input(\"q=\"))\n",
        "import math\n",
        "print(\"q=\",abs(q))\n",
        "print(\"phan nguyen so m la\",math.trunc(q))\n",
        "w = float(input(\"w=\"))\n",
        "print(\"q^w = \",q**w)\n",
        "print(\"can bac 2 cua q la \",math.sqrt(abs(q)))"
      ],
      "execution_count": null,
      "outputs": [
        {
          "output_type": "stream",
          "text": [
            "q=7\n",
            "q= 7.0\n",
            "phan nguyen so m la 7\n",
            "w=4\n",
            "q^w =  2401.0\n",
            "can bac 2 cua q la  2.6457513110645907\n"
          ],
          "name": "stdout"
        }
      ]
    },
    {
      "cell_type": "markdown",
      "metadata": {
        "id": "w8wuCLCi2k1J"
      },
      "source": [
        "Bai 4 "
      ]
    },
    {
      "cell_type": "code",
      "metadata": {
        "id": "VGvVm37-2k-B",
        "outputId": "8709c510-2c55-41e8-de0e-ee864176cf6b",
        "colab": {
          "base_uri": "https://localhost:8080/"
        }
      },
      "source": [
        "if q > w :\n",
        "  print(\"q>w\")\n",
        "else :\n",
        "  if q == w :\n",
        "    print(\"q=w\") \n",
        "  else :\n",
        "    print(\"q<w\")\n"
      ],
      "execution_count": null,
      "outputs": [
        {
          "output_type": "stream",
          "text": [
            "q>w\n"
          ],
          "name": "stdout"
        }
      ]
    },
    {
      "cell_type": "markdown",
      "metadata": {
        "id": "HV-e8odP4S-j"
      },
      "source": [
        "Bai 5"
      ]
    },
    {
      "cell_type": "code",
      "metadata": {
        "id": "k-tv46t_4THA",
        "outputId": "a82f2a49-6cdf-4c7a-d367-f35c746b726d",
        "colab": {
          "base_uri": "https://localhost:8080/"
        }
      },
      "source": [
        "string = input(\"Ki tu=\")\n",
        "print(\"ki tu in hoa\",string.upper())\n",
        "print(\"ki tu in thuong\",string.lower())"
      ],
      "execution_count": null,
      "outputs": [
        {
          "output_type": "stream",
          "text": [
            "Ki tu=fewfsdD\n",
            "ki tu in hoa FEWFSDD\n",
            "ki tu in thuong fewfsdd\n"
          ],
          "name": "stdout"
        }
      ]
    },
    {
      "cell_type": "markdown",
      "metadata": {
        "id": "xDCdyO_R5ihh"
      },
      "source": [
        "Bai 6"
      ]
    },
    {
      "cell_type": "code",
      "metadata": {
        "id": "NypPGIHz5i0J",
        "outputId": "c32cf667-f3f4-4cb4-85df-c2c64f277a58",
        "colab": {
          "base_uri": "https://localhost:8080/"
        }
      },
      "source": [
        "bt = \"\"\"Nắng hôn nhẹ vai gầy em gái\n",
        "Sao vô tình em để chiều rơi?\n",
        "Chân cứ bước như còn bước mãi\n",
        "Lá cuốn theo ánh mắt anh rồi!\"\"\"\n",
        "print(bt)"
      ],
      "execution_count": null,
      "outputs": [
        {
          "output_type": "stream",
          "text": [
            "Nắng hôn nhẹ vai gầy em gái\n",
            "Sao vô tình em để chiều rơi?\n",
            "Chân cứ bước như còn bước mãi\n",
            "Lá cuốn theo ánh mắt anh rồi!\n"
          ],
          "name": "stdout"
        }
      ]
    }
  ]
}