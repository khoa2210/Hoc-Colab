{
  "nbformat": 4,
  "nbformat_minor": 0,
  "metadata": {
    "colab": {
      "name": "regex.ipynb",
      "provenance": [],
      "authorship_tag": "ABX9TyOOJSe0FIGPvoTMrqM5pX3H",
      "include_colab_link": true
    },
    "kernelspec": {
      "name": "python3",
      "display_name": "Python 3"
    }
  },
  "cells": [
    {
      "cell_type": "markdown",
      "metadata": {
        "id": "view-in-github",
        "colab_type": "text"
      },
      "source": [
        "<a href=\"https://colab.research.google.com/github/khoa2210/Hoc-Colab/blob/main/regex.ipynb\" target=\"_parent\"><img src=\"https://colab.research.google.com/assets/colab-badge.svg\" alt=\"Open In Colab\"/></a>"
      ]
    },
    {
      "cell_type": "code",
      "metadata": {
        "colab": {
          "base_uri": "https://localhost:8080/"
        },
        "id": "re9X9QfhZr6k",
        "outputId": "64c7afc0-bcc6-432a-ef0f-abd965c4bbca"
      },
      "source": [
        "import re\r\n",
        "import requests\r\n",
        "from bs4 import BeautifulSoup\r\n",
        "\r\n",
        "link = requests.get('https://vietnamnet.vn/')\r\n",
        "\r\n",
        "link_soup = BeautifulSoup(link.text,'html.parser')\r\n",
        "results = link_soup('a', attrs={'href':True})\r\n",
        "results[0:10]\r\n",
        "\r\n",
        "a= set()\r\n",
        "for i in results:\r\n",
        "    a.add(i['href'])\r\n",
        "    \r\n",
        "list(a)[0:20]\r\n",
        "mau = '^(http).*(html)$'\r\n",
        "url = 'https://vietnamnet.vn/vn/su-kien/diego-maradona-qua-doi-692831.html'\r\n",
        "url_2 = 'https://vietnamnet.vn/vn/tuanvietnam/dachieu/cu-soc-dai-dich-covid-19-co-trong-nguy-695215.html'\r\n",
        "\r\n",
        "re.match(mau,url)\r\n",
        "re.match(mau,url_2)\r\n",
        "url_tim_duoc = set()\r\n",
        "for i in results:\r\n",
        "    a = i['href']\r\n",
        "    mau = '^(http).*(html|epi)$'\r\n",
        "    mau2 = '^/.*(html|epi)$'\r\n",
        "    if re.match(mau, a):\r\n",
        "        url_tim_duoc.add(a)\r\n",
        "    else:\r\n",
        "        if re.match(mau2, a):\r\n",
        "            url_lien_quan = 'https://vietnamnet.vn' + a\r\n",
        "            url_tim_duoc.add(url_lien_quan)\r\n",
        "list(url_tim_duoc)[0:10]\r\n",
        "url_tim_duoc = set()\r\n",
        "for i in results:\r\n",
        "    a = i['href']\r\n",
        "    mau = '^(https://vietnamnet.vn).*(html|epi)$'\r\n",
        "    mau2 = '^/.*(html|epi)$'\r\n",
        "    if re.match(mau, a):\r\n",
        "        url_tim_duoc.add(a)\r\n",
        "    else:\r\n",
        "        if re.match(mau2, a):\r\n",
        "            url_lien_quan = 'https://vietnamnet.vn' + a\r\n",
        "            url_tim_duoc.add(url_lien_quan)\r\n",
        "list(url_tim_duoc)[0:10]"
      ],
      "execution_count": 1,
      "outputs": [
        {
          "output_type": "execute_result",
          "data": {
            "text/plain": [
              "['https://vietnamnet.vn/vn/thoi-su/vu-an-nhat-cuong-va-cuu-chu-tich-ha-noi-nguyen-duc-chung-708198.html',\n",
              " 'https://vietnamnet.vn/vn/giao-duc/goc-phu-huynh/danh-sach-cac-truong-o-ha-noi-cho-nghi-hoc-phong-dich-covid-19-709600.html',\n",
              " 'https://vietnamnet.vn/vn/thoi-su/clip-nong/doc-nhat-viet-nam-sam-ca-koi-lai-ve-cung-ong-cong-ong-tao-710644.html',\n",
              " 'https://vietnamnet.vn/vn/bat-dong-san/kinh-nghiem-tu-van/4-cach-de-bat-dong-san-de-ra-tien-tien-ty-dut-tui-710361.html',\n",
              " 'https://vietnamnet.vn/vn/bat-dong-san/du-an/ha-noi-cuong-che-cao-oc-bien-van-phong-thanh-phong-khach-san-khong-phep-710073.html',\n",
              " 'https://vietnamnet.vn/vn/dai-hoi-dang/nhan-su-khong-trung-bch-t-u-thang-thot-mot-chut-nhung-qua-rat-nhanh-710559.html',\n",
              " 'https://vietnamnet.vn/vn/su-kien/chinh-bien-o-myanmar-709964.html',\n",
              " 'https://vietnamnet.vn/vn/doi-song/gia-dinh/nguoi-tho-ho-mat-sach-tien-khi-ve-que-an-tet-xin-khong-nhan-them-giup-do-710478.html',\n",
              " 'https://vietnamnet.vn/vn/thi-truong-tieu-dung/nen-mua-kinh-ram-hang-nao-tot-va-an-toan-cho-mat-709460.html',\n",
              " 'https://vietnamnet.vn/vn/dai-hoi-dang/van-kien-dai-hoi-xiii-se-duoc-dich-sang-7-thu-tieng-710116.html']"
            ]
          },
          "metadata": {
            "tags": []
          },
          "execution_count": 1
        }
      ]
    }
  ]
}