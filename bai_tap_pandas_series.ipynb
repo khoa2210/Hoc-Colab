{
  "nbformat": 4,
  "nbformat_minor": 0,
  "metadata": {
    "kernelspec": {
      "display_name": "Python 3",
      "language": "python",
      "name": "python3"
    },
    "language_info": {
      "codemirror_mode": {
        "name": "ipython",
        "version": 3
      },
      "file_extension": ".py",
      "mimetype": "text/x-python",
      "name": "python",
      "nbconvert_exporter": "python",
      "pygments_lexer": "ipython3",
      "version": "3.7.3"
    },
    "colab": {
      "name": "bai-tap-pandas-series.ipynb",
      "provenance": [],
      "include_colab_link": true
    }
  },
  "cells": [
    {
      "cell_type": "markdown",
      "metadata": {
        "id": "view-in-github",
        "colab_type": "text"
      },
      "source": [
        "<a href=\"https://colab.research.google.com/github/khoa2210/Hoc-Colab/blob/main/bai_tap_pandas_series.ipynb\" target=\"_parent\"><img src=\"https://colab.research.google.com/assets/colab-badge.svg\" alt=\"Open In Colab\"/></a>"
      ]
    },
    {
      "cell_type": "markdown",
      "metadata": {
        "id": "aeVV2fpkHFuN"
      },
      "source": [
        "Câu 1: Hãy tạo 1 đối tượng kiểu Series có tối thiểu 10 phần tử (kiểu số) với giá trị tùy ý thích của bạn. \n",
        "       In giá trị của Series đó ra màn hình"
      ]
    },
    {
      "cell_type": "code",
      "metadata": {
        "id": "hnZOZmevHFuR",
        "outputId": "2dcae2e6-c016-4fd9-ef68-b5398293d529",
        "colab": {
          "base_uri": "https://localhost:8080/"
        }
      },
      "source": [
        "import numpy as np\r\n",
        "import pandas as pd\r\n",
        "so = pd.Series(np.random.randint(100,size = 10))\r\n",
        "so"
      ],
      "execution_count": 2,
      "outputs": [
        {
          "output_type": "execute_result",
          "data": {
            "text/plain": [
              "0    96\n",
              "1    61\n",
              "2    10\n",
              "3    26\n",
              "4    71\n",
              "5    83\n",
              "6    65\n",
              "7    32\n",
              "8    94\n",
              "9     6\n",
              "dtype: int64"
            ]
          },
          "metadata": {
            "tags": []
          },
          "execution_count": 2
        }
      ]
    },
    {
      "cell_type": "markdown",
      "metadata": {
        "id": "RbV1ehb2HFuS"
      },
      "source": [
        "Câu 2: Hãy tạo 1 đối tượng kiểu Series với giá trị khởi tạo hình thành từ dữ liệu kiểu Dictionary. In kết quả ra màn hình"
      ]
    },
    {
      "cell_type": "code",
      "metadata": {
        "id": "8VqlTSHZHFuS",
        "outputId": "2a25cf3c-12da-4072-db22-16010ae50c19",
        "colab": {
          "base_uri": "https://localhost:8080/"
        }
      },
      "source": [
        "dict = {'tên':'Khoa', 'tuổi': 19, 'công việc': 'sinh viên', 'học' : 'TTNT', 'Khoa': 'KHDL'}\r\n",
        "mang = pd.Series(dict)\r\n",
        "mang"
      ],
      "execution_count": 15,
      "outputs": [
        {
          "output_type": "execute_result",
          "data": {
            "text/plain": [
              "tên               Khoa\n",
              "tuổi                19\n",
              "công việc    sinh viên\n",
              "học               TTNT\n",
              "Khoa              KHDL\n",
              "dtype: object"
            ]
          },
          "metadata": {
            "tags": []
          },
          "execution_count": 15
        }
      ]
    },
    {
      "cell_type": "markdown",
      "metadata": {
        "id": "Rxoy6BeBHFuS"
      },
      "source": [
        "Câu 3: Sử dụng series ở câu 1, hãy thay đổi giá trị của cột index từ kiểu số theo kiểu ký tự với giá trị do bạn tự xác định."
      ]
    },
    {
      "cell_type": "code",
      "metadata": {
        "id": "VV7uKu1nHFuS",
        "outputId": "db7b1c35-aa24-4807-ac17-1a7956b02026",
        "colab": {
          "base_uri": "https://localhost:8080/"
        }
      },
      "source": [
        "so_id = []\r\n",
        "for i in so.index:\r\n",
        "    so_id.append(f'so thu {i}')\r\n",
        "so2 = pd.Series(so.values, index=so_id)\r\n",
        "so2"
      ],
      "execution_count": 11,
      "outputs": [
        {
          "output_type": "execute_result",
          "data": {
            "text/plain": [
              "so thu 0    96\n",
              "so thu 1    61\n",
              "so thu 2    10\n",
              "so thu 3    26\n",
              "so thu 4    71\n",
              "so thu 5    83\n",
              "so thu 6    65\n",
              "so thu 7    32\n",
              "so thu 8    94\n",
              "so thu 9     6\n",
              "dtype: int64"
            ]
          },
          "metadata": {
            "tags": []
          },
          "execution_count": 11
        }
      ]
    },
    {
      "cell_type": "markdown",
      "metadata": {
        "id": "pjxO6I9WHFuT"
      },
      "source": [
        "Câu 4: Sử dụng series ở câu 2, hãy truy cập đến phần tử thứ 5 và in ra màn hình"
      ]
    },
    {
      "cell_type": "code",
      "metadata": {
        "id": "JjJ_A82AHFuT",
        "outputId": "f7eca7a9-e31c-4ca8-b976-1f186404af5d",
        "colab": {
          "base_uri": "https://localhost:8080/"
        }
      },
      "source": [
        "print(mang[4])"
      ],
      "execution_count": 17,
      "outputs": [
        {
          "output_type": "stream",
          "text": [
            "KHDL\n"
          ],
          "name": "stdout"
        }
      ]
    },
    {
      "cell_type": "markdown",
      "metadata": {
        "id": "7hqIhHu8HFuT"
      },
      "source": [
        "Câu 5: Sử dụng series ở câu 3, hãy truy cập đến 1 phần tử dựa theo chỉ số kiểu ký tự do bạn lựa chọn và in ra màn hình"
      ]
    },
    {
      "cell_type": "code",
      "metadata": {
        "id": "8VqiJzlvHFuT",
        "outputId": "51ff0a9b-6dce-4ae2-8be0-631b86d611dd",
        "colab": {
          "base_uri": "https://localhost:8080/"
        }
      },
      "source": [
        "print(so2['so thu 2'])"
      ],
      "execution_count": 18,
      "outputs": [
        {
          "output_type": "stream",
          "text": [
            "10\n"
          ],
          "name": "stdout"
        }
      ]
    },
    {
      "cell_type": "markdown",
      "metadata": {
        "id": "WDMwnL7XHFuT"
      },
      "source": [
        "Câu 6: Sử dụng series ở câu 3, hãy tìm ra tính chất đặc thù trong các chỉ số kiểu kí tự, thực hiện vòng lặp for duyệt trên các chỉ mục kiểu kí tự này để lọc ra những phần tử thỏa mãn điều kiện và in ra màn hình"
      ]
    },
    {
      "cell_type": "code",
      "metadata": {
        "id": "fkX9WKaSHFuT",
        "outputId": "75d58d4b-cbe2-4af3-b9c5-79b4e13bf973",
        "colab": {
          "base_uri": "https://localhost:8080/"
        }
      },
      "source": [
        "#Lấy các số thứ (0-6)\r\n",
        "so2[[int(name[-1]) <6 for name in so2.index]]"
      ],
      "execution_count": 19,
      "outputs": [
        {
          "output_type": "execute_result",
          "data": {
            "text/plain": [
              "so thu 0    96\n",
              "so thu 1    61\n",
              "so thu 2    10\n",
              "so thu 3    26\n",
              "so thu 4    71\n",
              "so thu 5    83\n",
              "dtype: int64"
            ]
          },
          "metadata": {
            "tags": []
          },
          "execution_count": 19
        }
      ]
    },
    {
      "cell_type": "markdown",
      "metadata": {
        "id": "St3b1gOMHFuU"
      },
      "source": [
        "Câu 7: Sử dụng series ở câu 1, hãy đổi tên cột index thành 'STT' và đặt tên cho series là 'Gia_tri'. In kết quả ra màn hình "
      ]
    },
    {
      "cell_type": "code",
      "metadata": {
        "id": "lBDFp-TpHFuU",
        "outputId": "e0a33f34-2367-4644-afe4-bb3a3a4bfc62",
        "colab": {
          "base_uri": "https://localhost:8080/"
        }
      },
      "source": [
        "so.index.name = 'STT'\r\n",
        "so.name = 'Gia_tri'\r\n",
        "so"
      ],
      "execution_count": 20,
      "outputs": [
        {
          "output_type": "execute_result",
          "data": {
            "text/plain": [
              "STT\n",
              "0    96\n",
              "1    61\n",
              "2    10\n",
              "3    26\n",
              "4    71\n",
              "5    83\n",
              "6    65\n",
              "7    32\n",
              "8    94\n",
              "9     6\n",
              "Name: Gia_tri, dtype: int64"
            ]
          },
          "metadata": {
            "tags": []
          },
          "execution_count": 20
        }
      ]
    },
    {
      "cell_type": "markdown",
      "metadata": {
        "id": "suRLgB3JHFuU"
      },
      "source": [
        "Câu 8: Hãy áp dụng hàm logarith của gói numpy với series ở câu 1 và in kết quả ra màn hình"
      ]
    },
    {
      "cell_type": "code",
      "metadata": {
        "id": "pd41MdVQHFuU",
        "outputId": "6f2b2e33-a4a1-4215-e421-3113a0b42a66",
        "colab": {
          "base_uri": "https://localhost:8080/"
        }
      },
      "source": [
        "so_log = pd.Series([np.log(gt) for gt in so.values])\r\n",
        "so_log.name = 'logarith'\r\n",
        "so_log"
      ],
      "execution_count": 21,
      "outputs": [
        {
          "output_type": "execute_result",
          "data": {
            "text/plain": [
              "0    4.564348\n",
              "1    4.110874\n",
              "2    2.302585\n",
              "3    3.258097\n",
              "4    4.262680\n",
              "5    4.418841\n",
              "6    4.174387\n",
              "7    3.465736\n",
              "8    4.543295\n",
              "9    1.791759\n",
              "Name: logarith, dtype: float64"
            ]
          },
          "metadata": {
            "tags": []
          },
          "execution_count": 21
        }
      ]
    },
    {
      "cell_type": "markdown",
      "metadata": {
        "id": "CcudQK5-HFuU"
      },
      "source": [
        "Câu 9: Lọc các giá trị của series 1 > 15 và in ra màn hình"
      ]
    },
    {
      "cell_type": "code",
      "metadata": {
        "id": "e5CV-mgcHFuU",
        "outputId": "b3b703dd-bef5-4c22-9409-14ede0f13692",
        "colab": {
          "base_uri": "https://localhost:8080/"
        }
      },
      "source": [
        "so[so>15]"
      ],
      "execution_count": 22,
      "outputs": [
        {
          "output_type": "execute_result",
          "data": {
            "text/plain": [
              "STT\n",
              "0    96\n",
              "1    61\n",
              "3    26\n",
              "4    71\n",
              "5    83\n",
              "6    65\n",
              "7    32\n",
              "8    94\n",
              "Name: Gia_tri, dtype: int64"
            ]
          },
          "metadata": {
            "tags": []
          },
          "execution_count": 22
        }
      ]
    }
  ]
}