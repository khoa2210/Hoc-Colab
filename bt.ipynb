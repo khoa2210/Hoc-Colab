{
  "nbformat": 4,
  "nbformat_minor": 0,
  "metadata": {
    "colab": {
      "name": "bt.ipynb",
      "provenance": [],
      "authorship_tag": "ABX9TyParDK22JH6PXKk3oMPpN5w",
      "include_colab_link": true
    },
    "kernelspec": {
      "name": "python3",
      "display_name": "Python 3"
    },
    "language_info": {
      "name": "python"
    }
  },
  "cells": [
    {
      "cell_type": "markdown",
      "metadata": {
        "id": "view-in-github",
        "colab_type": "text"
      },
      "source": [
        "<a href=\"https://colab.research.google.com/github/khoa2210/Hoc-Colab/blob/main/bt.ipynb\" target=\"_parent\"><img src=\"https://colab.research.google.com/assets/colab-badge.svg\" alt=\"Open In Colab\"/></a>"
      ]
    },
    {
      "cell_type": "markdown",
      "metadata": {
        "id": "tOygje8MqaqL"
      },
      "source": [
        "HƯỚNG DẪN SUY DIỄN THỐNG KÊ BẰNG GÓI STATS CỦA THƯ VIỆN SCIPY\n",
        "\n",
        "Các thư viện cần thiết"
      ]
    },
    {
      "cell_type": "code",
      "metadata": {
        "id": "EAx_glUaqawN"
      },
      "source": [
        "import numpy as np\n",
        "import pandas as pd\n",
        "import random\n",
        "from scipy import stats\n",
        "import warnings\n"
      ],
      "execution_count": 2,
      "outputs": []
    },
    {
      "cell_type": "markdown",
      "metadata": {
        "id": "ATDDEO-nqa1y"
      },
      "source": [
        "Tắt các cảnh báo của scipy"
      ]
    },
    {
      "cell_type": "code",
      "metadata": {
        "id": "-2pcCGJMq30-"
      },
      "source": [
        "warnings.filterwarnings('ignore')"
      ],
      "execution_count": 3,
      "outputs": []
    },
    {
      "cell_type": "markdown",
      "metadata": {
        "id": "RURNzpeVq8cI"
      },
      "source": [
        "Các bước khi thực hiện kiểm định One-Sample T-Test bao gồm:\n",
        "\n",
        "+ Bước 1: Đặt giả thuyết Ho: “Giá trị trung bình của biến tổng thể = giá trị cho trước”\n",
        "\n",
        "+ Bước 2: Lọc ra các trường hợp thỏa mãn các điều kiện (nếu có) của nhóm đối tượng tham gia kiểm định.\n",
        "\n",
        "+ Bước 3: Thực hiện kiểm định One-Sample T-Test\n",
        "\n",
        "+ Bước 4: Tìm giá trị Sig tương ứng với giá trị T-Test t đã tính được.\n",
        "\n",
        "+ Bước 5: So sánh giá trị Sig với giá trị xác suất a\n",
        "\n",
        "+ Nếu Sig>a thì ta chấp nhận giả thuyết Ho\n",
        "\n",
        "+ Nếu Sig£a thì ta bác bỏ giả thuyết Ho\n"
      ]
    },
    {
      "cell_type": "markdown",
      "metadata": {
        "id": "t3JYGSCjrLA4"
      },
      "source": [
        "Sinh các mẫu ngẫu nhiên lấy ra từ phân phối chuẩn bằng hàm random.normal() với các tham số:\n",
        "\n",
        "mean: giá trị trung bình của quần thể\n",
        "\n",
        "scale: độ lệch chuẩn của quần thể (không âm)\n",
        "\n",
        "size: kích thước mẫu\n"
      ]
    },
    {
      "cell_type": "code",
      "metadata": {
        "id": "7lyewO9YrLLF"
      },
      "source": [
        "samples = np.random.normal(110, 15, 50)"
      ],
      "execution_count": 4,
      "outputs": []
    },
    {
      "cell_type": "markdown",
      "metadata": {
        "id": "v1Sit5QMrvMz"
      },
      "source": [
        "kiểm định t 1 mẫu "
      ]
    },
    {
      "cell_type": "code",
      "metadata": {
        "colab": {
          "base_uri": "https://localhost:8080/"
        },
        "id": "vOQ__XytrzRT",
        "outputId": "0276f783-8ebb-43eb-f81c-a926779e5b2d"
      },
      "source": [
        "alpha = 0.05\n",
        "x = (stats.ttest_1samp(samples,100))\n",
        "print(stats.ttest_1samp(samples,100))\n",
        "if(x[1] <  alpha):\n",
        "  print(\"Có bằng chứng để bác bỏ giả thuyết H0\")\n",
        "else:\n",
        "  print(\"Chưa có bằng chứng để bác bỏ giả thuyết H0\")"
      ],
      "execution_count": 18,
      "outputs": [
        {
          "output_type": "stream",
          "text": [
            "Ttest_1sampResult(statistic=5.864555332347091, pvalue=3.781576858432091e-07)\n",
            "Có bằng chứng để bác bỏ giả thuyết H0\n"
          ],
          "name": "stdout"
        }
      ]
    },
    {
      "cell_type": "markdown",
      "metadata": {
        "id": "rD57sFBesndv"
      },
      "source": [
        "kiểm định t 2 mẫu \n"
      ]
    },
    {
      "cell_type": "code",
      "metadata": {
        "colab": {
          "base_uri": "https://localhost:8080/"
        },
        "id": "PtI3qgdzsnjf",
        "outputId": "0270012d-beaf-4e02-9f03-00e8a42254d4"
      },
      "source": [
        "samples_1 = np.random.normal(15, 6, 50)\n",
        "samples_2 = np.random.normal(19, 7, 60)\n",
        "\n",
        "t = stats.ttest_ind(samples_1,samples_2)\n",
        "print(t)\n",
        "if(t[1]<alpha):\n",
        "  print(\"Có bằng chứng để bác bỏ giả thuyết H0\")\n",
        "else:\n",
        "  print(\"Chưa có bằng chứng để bác bỏ giả thuyết H0\")\n"
      ],
      "execution_count": 23,
      "outputs": [
        {
          "output_type": "stream",
          "text": [
            "Ttest_indResult(statistic=-3.0580182083369323, pvalue=0.002809197213223414)\n",
            "Có bằng chứng để bác bỏ giả thuyết H0\n"
          ],
          "name": "stdout"
        }
      ]
    }
  ]
}