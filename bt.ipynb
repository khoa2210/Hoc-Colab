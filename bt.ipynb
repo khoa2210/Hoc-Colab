{
  "nbformat": 4,
  "nbformat_minor": 0,
  "metadata": {
    "colab": {
      "name": "bt.ipynb",
      "provenance": [],
      "authorship_tag": "ABX9TyOo7152v9TK6W4jGApYTTt+",
      "include_colab_link": true
    },
    "kernelspec": {
      "name": "python3",
      "display_name": "Python 3"
    }
  },
  "cells": [
    {
      "cell_type": "markdown",
      "metadata": {
        "id": "view-in-github",
        "colab_type": "text"
      },
      "source": [
        "<a href=\"https://colab.research.google.com/github/khoa2210/Hoc-Colab/blob/main/bt.ipynb\" target=\"_parent\"><img src=\"https://colab.research.google.com/assets/colab-badge.svg\" alt=\"Open In Colab\"/></a>"
      ]
    },
    {
      "cell_type": "code",
      "metadata": {
        "id": "wW-z0PjhPl0b",
        "outputId": "a68cb22a-c961-4f58-bb00-1c8b29232131",
        "colab": {
          "base_uri": "https://localhost:8080/"
        }
      },
      "source": [
        "def thapHaNoi(n, toaMot, toaHai, toaBa):\r\n",
        "\r\n",
        "    if n == 1:\r\n",
        "        print(\"Chuyen tu\", toaMot, \"sang\", toaBa)\r\n",
        "    else:\r\n",
        "        thapHaNoi(n-1,toaMot,toaBa ,toaHai)\r\n",
        "        print(\"Chuyen tu\", toaMot, \"sang\", toaBa)\r\n",
        "        thapHaNoi(n-1,toaHai,toaMot, toaBa)\r\n",
        "thapHaNoi(4,'A','B','C')\r\n",
        "def ucln(a, b):\r\n",
        "    if (b == 0):\r\n",
        "        return a\r\n",
        "    return uscln(b, a % b)"
      ],
      "execution_count": 1,
      "outputs": [
        {
          "output_type": "stream",
          "text": [
            "Chuyen tu A sang B\n",
            "Chuyen tu A sang C\n",
            "Chuyen tu B sang C\n",
            "Chuyen tu A sang B\n",
            "Chuyen tu C sang A\n",
            "Chuyen tu C sang B\n",
            "Chuyen tu A sang B\n",
            "Chuyen tu A sang C\n",
            "Chuyen tu B sang C\n",
            "Chuyen tu B sang A\n",
            "Chuyen tu C sang A\n",
            "Chuyen tu B sang C\n",
            "Chuyen tu A sang B\n",
            "Chuyen tu A sang C\n",
            "Chuyen tu B sang C\n"
          ],
          "name": "stdout"
        }
      ]
    }
  ]
}