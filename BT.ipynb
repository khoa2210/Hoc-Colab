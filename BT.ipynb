{
  "nbformat": 4,
  "nbformat_minor": 0,
  "metadata": {
    "kernelspec": {
      "display_name": "Python 3",
      "language": "python",
      "name": "python3"
    },
    "language_info": {
      "codemirror_mode": {
        "name": "ipython",
        "version": 3
      },
      "file_extension": ".py",
      "mimetype": "text/x-python",
      "name": "python",
      "nbconvert_exporter": "python",
      "pygments_lexer": "ipython3",
      "version": "3.7.3"
    },
    "colab": {
      "name": "BT.ipynb",
      "provenance": [],
      "include_colab_link": true
    }
  },
  "cells": [
    {
      "cell_type": "markdown",
      "metadata": {
        "id": "view-in-github",
        "colab_type": "text"
      },
      "source": [
        "<a href=\"https://colab.research.google.com/github/khoa2210/Hoc-Colab/blob/main/BT.ipynb\" target=\"_parent\"><img src=\"https://colab.research.google.com/assets/colab-badge.svg\" alt=\"Open In Colab\"/></a>"
      ]
    },
    {
      "cell_type": "markdown",
      "metadata": {
        "id": "UROOJWvNVH2r"
      },
      "source": [
        "Sử dụng thư viện Numpy\n",
        "\n",
        "1. Sinh mẫu ngẫu nhiên bằng hàm arange trong khoảng [-15, 27] với khoảng cách là 0.7 và in kết quả ra màn hình"
      ]
    },
    {
      "cell_type": "code",
      "metadata": {
        "id": "8jIP32VYXBf7"
      },
      "source": [
        "import numpy as np"
      ],
      "execution_count": 1,
      "outputs": []
    },
    {
      "cell_type": "code",
      "metadata": {
        "id": "S3nAliT7VH2s",
        "colab": {
          "base_uri": "https://localhost:8080/"
        },
        "outputId": "f7cb2855-594c-4de0-870e-788c96bdc623"
      },
      "source": [
        "#Code \n",
        "sample_1 = np.arange(-15, 27, 0.7)\n",
        "sample_1"
      ],
      "execution_count": 5,
      "outputs": [
        {
          "output_type": "execute_result",
          "data": {
            "text/plain": [
              "array([-15. , -14.3, -13.6, -12.9, -12.2, -11.5, -10.8, -10.1,  -9.4,\n",
              "        -8.7,  -8. ,  -7.3,  -6.6,  -5.9,  -5.2,  -4.5,  -3.8,  -3.1,\n",
              "        -2.4,  -1.7,  -1. ,  -0.3,   0.4,   1.1,   1.8,   2.5,   3.2,\n",
              "         3.9,   4.6,   5.3,   6. ,   6.7,   7.4,   8.1,   8.8,   9.5,\n",
              "        10.2,  10.9,  11.6,  12.3,  13. ,  13.7,  14.4,  15.1,  15.8,\n",
              "        16.5,  17.2,  17.9,  18.6,  19.3,  20. ,  20.7,  21.4,  22.1,\n",
              "        22.8,  23.5,  24.2,  24.9,  25.6,  26.3,  27. ])"
            ]
          },
          "metadata": {
            "tags": []
          },
          "execution_count": 5
        }
      ]
    },
    {
      "cell_type": "markdown",
      "metadata": {
        "id": "DGUlVysXVH2s"
      },
      "source": [
        "2. Sinh mẫu ngẫu nhiên theo phân phối chuẩn với mean = 2.7 std = 1.2 và size = 40\n",
        "In kết quả ra màn hình"
      ]
    },
    {
      "cell_type": "code",
      "metadata": {
        "id": "gtDxBxUBVH2s",
        "colab": {
          "base_uri": "https://localhost:8080/"
        },
        "outputId": "1d8ca7f9-91c2-490c-e6c9-6ba29138aa93"
      },
      "source": [
        "#Code\n",
        "sample_2 = np.random.normal(loc = 2.7, scale = 1.20, size = 40)\n",
        "sample_2"
      ],
      "execution_count": 6,
      "outputs": [
        {
          "output_type": "execute_result",
          "data": {
            "text/plain": [
              "array([2.55635321, 4.82083321, 1.95778312, 2.80817823, 2.24907027,\n",
              "       4.51477837, 2.73256423, 2.11452749, 2.31821105, 0.15954672,\n",
              "       2.60969629, 1.82117268, 1.7670337 , 5.12034615, 3.80979849,\n",
              "       3.96169371, 3.66502623, 3.19743236, 2.35023512, 3.05797281,\n",
              "       2.77140766, 3.28958314, 2.66796605, 3.65285032, 1.05990396,\n",
              "       1.51076843, 4.47627299, 1.15800301, 1.0629527 , 1.78532179,\n",
              "       1.44471774, 2.02124556, 3.37069621, 3.16031052, 3.86953147,\n",
              "       7.51617725, 1.61522595, 1.80790744, 0.96359663, 4.66888982])"
            ]
          },
          "metadata": {
            "tags": []
          },
          "execution_count": 6
        }
      ]
    },
    {
      "cell_type": "markdown",
      "metadata": {
        "id": "gQy2x2emVH2t"
      },
      "source": [
        "3. Sinh mẫu ngẫu nhiên từ vector ['Viet Nam', 'Britain', 'France', 'Russia', 'Singapore'] \n",
        "\n",
        "với kích thước là 17 theo phân phối chuẩn"
      ]
    },
    {
      "cell_type": "code",
      "metadata": {
        "id": "BglNQYNKVH2t",
        "colab": {
          "base_uri": "https://localhost:8080/"
        },
        "outputId": "82b61155-9a30-47d1-e699-98ee9e6e7230"
      },
      "source": [
        "#Code\n",
        "sample_3 = np.random.choice(['Viet Nam', 'Britain', 'France', 'Russia', 'Singapore'], 17)\n",
        "sample_3"
      ],
      "execution_count": 7,
      "outputs": [
        {
          "output_type": "execute_result",
          "data": {
            "text/plain": [
              "array(['Britain', 'Britain', 'Russia', 'Russia', 'Britain', 'Russia',\n",
              "       'Russia', 'Russia', 'France', 'Britain', 'Singapore', 'Singapore',\n",
              "       'Russia', 'France', 'Singapore', 'Britain', 'Viet Nam'],\n",
              "      dtype='<U9')"
            ]
          },
          "metadata": {
            "tags": []
          },
          "execution_count": 7
        }
      ]
    },
    {
      "cell_type": "markdown",
      "metadata": {
        "id": "3Do5yxWrVH2t"
      },
      "source": [
        "4. Sinh mẫu ngẫu nhiên ở câu 3 nhưng không theo phân phối chuẩn mà theo 1 vector đặc tả giá trị xác suất do bạn chọn"
      ]
    },
    {
      "cell_type": "code",
      "metadata": {
        "id": "OMNW-8SNVH2t",
        "colab": {
          "base_uri": "https://localhost:8080/"
        },
        "outputId": "3cb63711-d6bd-44d5-c4c4-ff62300cc650"
      },
      "source": [
        "#Code\n",
        "sample_4 = np.random.choice(['Viet Nam', 'Britain', 'France', 'Russia', 'Singapore'], 6, p = [0.1, 0.3, 0.2, 0.2,0.2])\n",
        "print(sample_4)"
      ],
      "execution_count": 8,
      "outputs": [
        {
          "output_type": "stream",
          "text": [
            "['Britain' 'Britain' 'Britain' 'Viet Nam' 'Russia' 'Russia']\n"
          ],
          "name": "stdout"
        }
      ]
    },
    {
      "cell_type": "markdown",
      "metadata": {
        "id": "nLzaAAsQVH2u"
      },
      "source": [
        "Sử dụng thư việc scipy.stats để sinh mẫu ngẫu nhiên\n",
        "\n",
        "1. Sinh mẫu ngẫu nhiên theo phân phối chuẩn với mean = 12.7, std = 2.6 và size = 30. In kết quả ra màn hình"
      ]
    },
    {
      "cell_type": "code",
      "metadata": {
        "id": "0oQ2SV-MX1us"
      },
      "source": [
        "from scipy import stats"
      ],
      "execution_count": 9,
      "outputs": []
    },
    {
      "cell_type": "code",
      "metadata": {
        "id": "y2331TZXVH2u",
        "colab": {
          "base_uri": "https://localhost:8080/"
        },
        "outputId": "7dc0d942-5be0-446c-d0b9-14d7d52ce5bf"
      },
      "source": [
        "#Code\n",
        "sample_5 = stats.norm.rvs(loc = 12.7, scale = 2.6, size = 30)\n",
        "sample_5"
      ],
      "execution_count": 10,
      "outputs": [
        {
          "output_type": "execute_result",
          "data": {
            "text/plain": [
              "array([11.60957618, 11.36389708, 14.08684984, 14.78163359,  4.90173113,\n",
              "       11.62936491, 14.9596276 , 12.01541259,  4.5940916 , 12.54872316,\n",
              "       10.16152543, 12.06122802, 11.77859003, 13.47524478, 10.7850051 ,\n",
              "       12.03856551, 11.81191801, 14.05124632, 11.44284907,  9.16878079,\n",
              "       12.95882599, 11.52774034, 12.85626422, 14.21957783, 14.20153567,\n",
              "        9.26545035,  6.6249482 , 12.8707781 , 13.7357525 , 11.93194094])"
            ]
          },
          "metadata": {
            "tags": []
          },
          "execution_count": 10
        }
      ]
    },
    {
      "cell_type": "markdown",
      "metadata": {
        "id": "3lhKFPX7VH2u"
      },
      "source": [
        "2. Hãy sinh một mẫu ngẫu nhiên theo phân phối Poisson"
      ]
    },
    {
      "cell_type": "code",
      "metadata": {
        "id": "JqhXJU0JVH2u",
        "colab": {
          "base_uri": "https://localhost:8080/"
        },
        "outputId": "cfd56729-347c-4327-8889-af3c5ff579fd"
      },
      "source": [
        "#Code\n",
        "sample_6 = stats.poisson.rvs(loc=18,\n",
        "                              mu=30,\n",
        "                              size=10)\n",
        "sample_6"
      ],
      "execution_count": 11,
      "outputs": [
        {
          "output_type": "execute_result",
          "data": {
            "text/plain": [
              "array([43, 45, 44, 50, 41, 43, 53, 58, 58, 52])"
            ]
          },
          "metadata": {
            "tags": []
          },
          "execution_count": 11
        }
      ]
    },
    {
      "cell_type": "code",
      "metadata": {
        "id": "EaImZBFpVH2u"
      },
      "source": [
        ""
      ],
      "execution_count": null,
      "outputs": []
    }
  ]
}